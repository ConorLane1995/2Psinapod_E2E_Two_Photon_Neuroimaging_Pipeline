{
 "cells": [
  {
   "cell_type": "code",
   "execution_count": 1,
   "id": "49741add",
   "metadata": {},
   "outputs": [],
   "source": [
    "import matplotlib.pyplot as plt\n",
    "import numpy as np\n",
    "import pandas as pd\n",
    "import os\n",
    "import pickle\n",
    "from scipy.stats import kstest\n",
    "from collections import Counter\n",
    "from scipy.stats import sem \n",
    "import pingouin as pg\n",
    "import statsmodels.formula.api as smf\n",
    "from statsmodels.stats.multitest import multipletests\n",
    "import seaborn as sns"
   ]
  },
  {
   "cell_type": "code",
   "execution_count": 2,
   "id": "7647ebce",
   "metadata": {},
   "outputs": [],
   "source": [
    "# INPUTS:\n",
    "\n",
    "filepath = \"F:/Two-Photon/Psilocybin Project/Evoked Cohort Mice/compiled_dicts\"\n",
    "z_thresh = 4"
   ]
  },
  {
   "cell_type": "code",
   "execution_count": 3,
   "id": "4864e241",
   "metadata": {},
   "outputs": [],
   "source": [
    "# Dictionary to map filenames to variable names\n",
    "file_variable_mapping = {\n",
    "    'saline_pre_dict.pkl': 'saline_pre',\n",
    "    'saline_post_dict.pkl': 'saline_post',\n",
    "    'psilo_pre_dict.pkl': 'psilo_pre',\n",
    "    'psilo_post_dict.pkl': 'psilo_post'\n",
    "}\n",
    "\n",
    "# Initialize empty dictionaries\n",
    "saline_pre = {}\n",
    "saline_post = {}\n",
    "psilo_pre = {}\n",
    "psilo_post = {}\n",
    "\n",
    "# Iterate through files in megadict folder\n",
    "for filename in os.listdir(filepath):\n",
    "    if filename in file_variable_mapping:\n",
    "        file_path = os.path.join(filepath, filename)\n",
    "        with open(file_path, 'rb') as file:\n",
    "            # Load pkl file and assign to respective dictionary variable\n",
    "            globals()[file_variable_mapping[filename]] = pickle.load(file)"
   ]
  },
  {
   "cell_type": "code",
   "execution_count": null,
   "id": "ac8a8977",
   "metadata": {},
   "outputs": [],
   "source": [
    "def dict_to_pd_bandwidth(dict,condition):\n",
    "    rows = []\n",
    "\n",
    "    for mouse_id, mouse_data in dict.items():\n",
    "\n",
    "        base_mouse_id = mouse_id[-3:]\n",
    "\n",
    "        for cell_id, cell_data in mouse_data.items():\n",
    "\n",
    "            if cell_data['active'] == True:\n",
    "                unique_cell_id = f\"{mouse_id}_{condition}_{cell_id}\"\n",
    "                row = {\n",
    "                    'original_mouse_id': mouse_id,\n",
    "                    'mouse_id': base_mouse_id,\n",
    "                    'cell': cell_id,\n",
    "                    'condition': condition,\n",
    "                    'unique_cell_id': unique_cell_id\n",
    "\n",
    "                }\n",
    "                rows.append(row)\n",
    "    df = pd.DataFrame(rows)\n",
    "\n",
    "    return df"
   ]
  },
  {
   "cell_type": "code",
   "execution_count": null,
   "id": "43e6975b",
   "metadata": {},
   "outputs": [],
   "source": [
    "'''\n",
    "Pseudocode it:\n",
    "\n",
    "Function 1:\n",
    "Amplitude calculations\n",
    "For all active cells, Calculate the mean activity and BF peak amplitude and store them in the dict.\n",
    "\n",
    "Function 2:\n",
    "For each animal, extract the matched cells array (where is it stored again?).\n",
    "\n",
    "\n",
    "\n",
    "Putting into dataframe:  for each cell, extract animal (make it unique) and create a unique cell id.\n",
    "\n",
    "\n",
    "\n",
    "'''"
   ]
  }
 ],
 "metadata": {
  "kernelspec": {
   "display_name": "Python 3",
   "language": "python",
   "name": "python3"
  },
  "language_info": {
   "codemirror_mode": {
    "name": "ipython",
    "version": 3
   },
   "file_extension": ".py",
   "mimetype": "text/x-python",
   "name": "python",
   "nbconvert_exporter": "python",
   "pygments_lexer": "ipython3",
   "version": "3.9.13"
  }
 },
 "nbformat": 4,
 "nbformat_minor": 5
}
