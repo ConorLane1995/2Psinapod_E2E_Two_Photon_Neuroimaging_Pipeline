{
 "cells": [
  {
   "cell_type": "code",
   "execution_count": null,
   "id": "b66ff1c0",
   "metadata": {},
   "outputs": [],
   "source": [
    "from statsmodels.stats.power import TTestPower "
   ]
  },
  {
   "cell_type": "code",
   "execution_count": 2,
   "id": "24ad8226",
   "metadata": {},
   "outputs": [
    {
     "name": "stdout",
     "output_type": "stream",
     "text": [
      "Power: 0.232\n"
     ]
    }
   ],
   "source": [
    " \n",
    "from statsmodels.stats.power import TTestPower \n",
    "  \n",
    "  \n",
    "power = TTestPower() \n",
    "n_test = power.solve_power(nobs=8, effect_size = 0.5, \n",
    "                           power = None, alpha = 0.05) \n",
    "print('Power: {:.3f}'.format(n_test)) "
   ]
  },
  {
   "cell_type": "code",
   "execution_count": 4,
   "id": "30785467",
   "metadata": {},
   "outputs": [
    {
     "name": "stderr",
     "output_type": "stream",
     "text": [
      "  4%|▎         | 36/1000 [00:03<01:40,  9.62it/s]C:\\Users\\Conor\\AppData\\Local\\Packages\\PythonSoftwareFoundation.Python.3.9_qbz5n2kfra8p0\\LocalCache\\local-packages\\Python39\\site-packages\\statsmodels\\base\\model.py:604: ConvergenceWarning: Maximum Likelihood optimization failed to converge. Check mle_retvals\n",
      "  warnings.warn(\"Maximum Likelihood optimization failed to \"\n",
      "C:\\Users\\Conor\\AppData\\Local\\Packages\\PythonSoftwareFoundation.Python.3.9_qbz5n2kfra8p0\\LocalCache\\local-packages\\Python39\\site-packages\\statsmodels\\regression\\mixed_linear_model.py:2200: ConvergenceWarning: Retrying MixedLM optimization with lbfgs\n",
      "  warnings.warn(\n",
      "  8%|▊         | 83/1000 [00:09<01:41,  9.06it/s]C:\\Users\\Conor\\AppData\\Local\\Packages\\PythonSoftwareFoundation.Python.3.9_qbz5n2kfra8p0\\LocalCache\\local-packages\\Python39\\site-packages\\statsmodels\\base\\model.py:604: ConvergenceWarning: Maximum Likelihood optimization failed to converge. Check mle_retvals\n",
      "  warnings.warn(\"Maximum Likelihood optimization failed to \"\n",
      "C:\\Users\\Conor\\AppData\\Local\\Packages\\PythonSoftwareFoundation.Python.3.9_qbz5n2kfra8p0\\LocalCache\\local-packages\\Python39\\site-packages\\statsmodels\\regression\\mixed_linear_model.py:2200: ConvergenceWarning: Retrying MixedLM optimization with lbfgs\n",
      "  warnings.warn(\n",
      "C:\\Users\\Conor\\AppData\\Local\\Packages\\PythonSoftwareFoundation.Python.3.9_qbz5n2kfra8p0\\LocalCache\\local-packages\\Python39\\site-packages\\statsmodels\\regression\\mixed_linear_model.py:2237: ConvergenceWarning: The MLE may be on the boundary of the parameter space.\n",
      "  warnings.warn(msg, ConvergenceWarning)\n",
      "  9%|▉         | 89/1000 [00:09<01:49,  8.34it/s]C:\\Users\\Conor\\AppData\\Local\\Packages\\PythonSoftwareFoundation.Python.3.9_qbz5n2kfra8p0\\LocalCache\\local-packages\\Python39\\site-packages\\statsmodels\\base\\model.py:604: ConvergenceWarning: Maximum Likelihood optimization failed to converge. Check mle_retvals\n",
      "  warnings.warn(\"Maximum Likelihood optimization failed to \"\n",
      "C:\\Users\\Conor\\AppData\\Local\\Packages\\PythonSoftwareFoundation.Python.3.9_qbz5n2kfra8p0\\LocalCache\\local-packages\\Python39\\site-packages\\statsmodels\\regression\\mixed_linear_model.py:2200: ConvergenceWarning: Retrying MixedLM optimization with lbfgs\n",
      "  warnings.warn(\n",
      "C:\\Users\\Conor\\AppData\\Local\\Packages\\PythonSoftwareFoundation.Python.3.9_qbz5n2kfra8p0\\LocalCache\\local-packages\\Python39\\site-packages\\statsmodels\\regression\\mixed_linear_model.py:2237: ConvergenceWarning: The MLE may be on the boundary of the parameter space.\n",
      "  warnings.warn(msg, ConvergenceWarning)\n",
      "  9%|▉         | 93/1000 [00:10<02:03,  7.35it/s]C:\\Users\\Conor\\AppData\\Local\\Packages\\PythonSoftwareFoundation.Python.3.9_qbz5n2kfra8p0\\LocalCache\\local-packages\\Python39\\site-packages\\statsmodels\\base\\model.py:604: ConvergenceWarning: Maximum Likelihood optimization failed to converge. Check mle_retvals\n",
      "  warnings.warn(\"Maximum Likelihood optimization failed to \"\n",
      "C:\\Users\\Conor\\AppData\\Local\\Packages\\PythonSoftwareFoundation.Python.3.9_qbz5n2kfra8p0\\LocalCache\\local-packages\\Python39\\site-packages\\statsmodels\\regression\\mixed_linear_model.py:2200: ConvergenceWarning: Retrying MixedLM optimization with lbfgs\n",
      "  warnings.warn(\n",
      "C:\\Users\\Conor\\AppData\\Local\\Packages\\PythonSoftwareFoundation.Python.3.9_qbz5n2kfra8p0\\LocalCache\\local-packages\\Python39\\site-packages\\statsmodels\\regression\\mixed_linear_model.py:2237: ConvergenceWarning: The MLE may be on the boundary of the parameter space.\n",
      "  warnings.warn(msg, ConvergenceWarning)\n",
      " 10%|█         | 101/1000 [00:11<01:45,  8.56it/s]C:\\Users\\Conor\\AppData\\Local\\Packages\\PythonSoftwareFoundation.Python.3.9_qbz5n2kfra8p0\\LocalCache\\local-packages\\Python39\\site-packages\\statsmodels\\base\\model.py:604: ConvergenceWarning: Maximum Likelihood optimization failed to converge. Check mle_retvals\n",
      "  warnings.warn(\"Maximum Likelihood optimization failed to \"\n",
      "C:\\Users\\Conor\\AppData\\Local\\Packages\\PythonSoftwareFoundation.Python.3.9_qbz5n2kfra8p0\\LocalCache\\local-packages\\Python39\\site-packages\\statsmodels\\regression\\mixed_linear_model.py:2200: ConvergenceWarning: Retrying MixedLM optimization with lbfgs\n",
      "  warnings.warn(\n",
      "C:\\Users\\Conor\\AppData\\Local\\Packages\\PythonSoftwareFoundation.Python.3.9_qbz5n2kfra8p0\\LocalCache\\local-packages\\Python39\\site-packages\\statsmodels\\regression\\mixed_linear_model.py:2237: ConvergenceWarning: The MLE may be on the boundary of the parameter space.\n",
      "  warnings.warn(msg, ConvergenceWarning)\n",
      " 33%|███▎      | 328/1000 [00:37<01:23,  8.02it/s]C:\\Users\\Conor\\AppData\\Local\\Packages\\PythonSoftwareFoundation.Python.3.9_qbz5n2kfra8p0\\LocalCache\\local-packages\\Python39\\site-packages\\statsmodels\\base\\model.py:604: ConvergenceWarning: Maximum Likelihood optimization failed to converge. Check mle_retvals\n",
      "  warnings.warn(\"Maximum Likelihood optimization failed to \"\n",
      "C:\\Users\\Conor\\AppData\\Local\\Packages\\PythonSoftwareFoundation.Python.3.9_qbz5n2kfra8p0\\LocalCache\\local-packages\\Python39\\site-packages\\statsmodels\\regression\\mixed_linear_model.py:2200: ConvergenceWarning: Retrying MixedLM optimization with lbfgs\n",
      "  warnings.warn(\n",
      "C:\\Users\\Conor\\AppData\\Local\\Packages\\PythonSoftwareFoundation.Python.3.9_qbz5n2kfra8p0\\LocalCache\\local-packages\\Python39\\site-packages\\statsmodels\\regression\\mixed_linear_model.py:2237: ConvergenceWarning: The MLE may be on the boundary of the parameter space.\n",
      "  warnings.warn(msg, ConvergenceWarning)\n",
      " 46%|████▌     | 457/1000 [00:53<01:04,  8.48it/s]C:\\Users\\Conor\\AppData\\Local\\Packages\\PythonSoftwareFoundation.Python.3.9_qbz5n2kfra8p0\\LocalCache\\local-packages\\Python39\\site-packages\\statsmodels\\base\\model.py:604: ConvergenceWarning: Maximum Likelihood optimization failed to converge. Check mle_retvals\n",
      "  warnings.warn(\"Maximum Likelihood optimization failed to \"\n",
      "C:\\Users\\Conor\\AppData\\Local\\Packages\\PythonSoftwareFoundation.Python.3.9_qbz5n2kfra8p0\\LocalCache\\local-packages\\Python39\\site-packages\\statsmodels\\regression\\mixed_linear_model.py:2200: ConvergenceWarning: Retrying MixedLM optimization with lbfgs\n",
      "  warnings.warn(\n",
      " 56%|█████▌    | 559/1000 [01:05<00:46,  9.43it/s]C:\\Users\\Conor\\AppData\\Local\\Packages\\PythonSoftwareFoundation.Python.3.9_qbz5n2kfra8p0\\LocalCache\\local-packages\\Python39\\site-packages\\statsmodels\\base\\model.py:604: ConvergenceWarning: Maximum Likelihood optimization failed to converge. Check mle_retvals\n",
      "  warnings.warn(\"Maximum Likelihood optimization failed to \"\n",
      "C:\\Users\\Conor\\AppData\\Local\\Packages\\PythonSoftwareFoundation.Python.3.9_qbz5n2kfra8p0\\LocalCache\\local-packages\\Python39\\site-packages\\statsmodels\\regression\\mixed_linear_model.py:2200: ConvergenceWarning: Retrying MixedLM optimization with lbfgs\n",
      "  warnings.warn(\n",
      "C:\\Users\\Conor\\AppData\\Local\\Packages\\PythonSoftwareFoundation.Python.3.9_qbz5n2kfra8p0\\LocalCache\\local-packages\\Python39\\site-packages\\statsmodels\\regression\\mixed_linear_model.py:2237: ConvergenceWarning: The MLE may be on the boundary of the parameter space.\n",
      "  warnings.warn(msg, ConvergenceWarning)\n",
      " 57%|█████▋    | 571/1000 [01:07<00:56,  7.56it/s]C:\\Users\\Conor\\AppData\\Local\\Packages\\PythonSoftwareFoundation.Python.3.9_qbz5n2kfra8p0\\LocalCache\\local-packages\\Python39\\site-packages\\statsmodels\\regression\\mixed_linear_model.py:2237: ConvergenceWarning: The MLE may be on the boundary of the parameter space.\n",
      "  warnings.warn(msg, ConvergenceWarning)\n",
      " 60%|█████▉    | 596/1000 [01:10<00:46,  8.73it/s]C:\\Users\\Conor\\AppData\\Local\\Packages\\PythonSoftwareFoundation.Python.3.9_qbz5n2kfra8p0\\LocalCache\\local-packages\\Python39\\site-packages\\statsmodels\\base\\model.py:604: ConvergenceWarning: Maximum Likelihood optimization failed to converge. Check mle_retvals\n",
      "  warnings.warn(\"Maximum Likelihood optimization failed to \"\n",
      "C:\\Users\\Conor\\AppData\\Local\\Packages\\PythonSoftwareFoundation.Python.3.9_qbz5n2kfra8p0\\LocalCache\\local-packages\\Python39\\site-packages\\statsmodels\\regression\\mixed_linear_model.py:2200: ConvergenceWarning: Retrying MixedLM optimization with lbfgs\n",
      "  warnings.warn(\n",
      "C:\\Users\\Conor\\AppData\\Local\\Packages\\PythonSoftwareFoundation.Python.3.9_qbz5n2kfra8p0\\LocalCache\\local-packages\\Python39\\site-packages\\statsmodels\\base\\model.py:604: ConvergenceWarning: Maximum Likelihood optimization failed to converge. Check mle_retvals\n",
      "  warnings.warn(\"Maximum Likelihood optimization failed to \"\n",
      "C:\\Users\\Conor\\AppData\\Local\\Packages\\PythonSoftwareFoundation.Python.3.9_qbz5n2kfra8p0\\LocalCache\\local-packages\\Python39\\site-packages\\statsmodels\\regression\\mixed_linear_model.py:2200: ConvergenceWarning: Retrying MixedLM optimization with cg\n",
      "  warnings.warn(\n",
      "C:\\Users\\Conor\\AppData\\Local\\Packages\\PythonSoftwareFoundation.Python.3.9_qbz5n2kfra8p0\\LocalCache\\local-packages\\Python39\\site-packages\\statsmodels\\base\\model.py:604: ConvergenceWarning: Maximum Likelihood optimization failed to converge. Check mle_retvals\n",
      "  warnings.warn(\"Maximum Likelihood optimization failed to \"\n",
      "C:\\Users\\Conor\\AppData\\Local\\Packages\\PythonSoftwareFoundation.Python.3.9_qbz5n2kfra8p0\\LocalCache\\local-packages\\Python39\\site-packages\\statsmodels\\regression\\mixed_linear_model.py:2206: ConvergenceWarning: MixedLM optimization failed, trying a different optimizer may help.\n",
      "  warnings.warn(msg, ConvergenceWarning)\n",
      "C:\\Users\\Conor\\AppData\\Local\\Packages\\PythonSoftwareFoundation.Python.3.9_qbz5n2kfra8p0\\LocalCache\\local-packages\\Python39\\site-packages\\statsmodels\\regression\\mixed_linear_model.py:2218: ConvergenceWarning: Gradient optimization failed, |grad| = 0.616946\n",
      "  warnings.warn(msg, ConvergenceWarning)\n",
      " 60%|██████    | 601/1000 [01:11<01:07,  5.90it/s]C:\\Users\\Conor\\AppData\\Local\\Packages\\PythonSoftwareFoundation.Python.3.9_qbz5n2kfra8p0\\LocalCache\\local-packages\\Python39\\site-packages\\statsmodels\\base\\model.py:604: ConvergenceWarning: Maximum Likelihood optimization failed to converge. Check mle_retvals\n",
      "  warnings.warn(\"Maximum Likelihood optimization failed to \"\n",
      "C:\\Users\\Conor\\AppData\\Local\\Packages\\PythonSoftwareFoundation.Python.3.9_qbz5n2kfra8p0\\LocalCache\\local-packages\\Python39\\site-packages\\statsmodels\\regression\\mixed_linear_model.py:2200: ConvergenceWarning: Retrying MixedLM optimization with lbfgs\n",
      "  warnings.warn(\n",
      "C:\\Users\\Conor\\AppData\\Local\\Packages\\PythonSoftwareFoundation.Python.3.9_qbz5n2kfra8p0\\LocalCache\\local-packages\\Python39\\site-packages\\statsmodels\\regression\\mixed_linear_model.py:2237: ConvergenceWarning: The MLE may be on the boundary of the parameter space.\n",
      "  warnings.warn(msg, ConvergenceWarning)\n",
      " 66%|██████▌   | 661/1000 [01:18<00:33, 10.15it/s]C:\\Users\\Conor\\AppData\\Local\\Packages\\PythonSoftwareFoundation.Python.3.9_qbz5n2kfra8p0\\LocalCache\\local-packages\\Python39\\site-packages\\statsmodels\\base\\model.py:604: ConvergenceWarning: Maximum Likelihood optimization failed to converge. Check mle_retvals\n",
      "  warnings.warn(\"Maximum Likelihood optimization failed to \"\n",
      "C:\\Users\\Conor\\AppData\\Local\\Packages\\PythonSoftwareFoundation.Python.3.9_qbz5n2kfra8p0\\LocalCache\\local-packages\\Python39\\site-packages\\statsmodels\\regression\\mixed_linear_model.py:2200: ConvergenceWarning: Retrying MixedLM optimization with lbfgs\n",
      "  warnings.warn(\n",
      "C:\\Users\\Conor\\AppData\\Local\\Packages\\PythonSoftwareFoundation.Python.3.9_qbz5n2kfra8p0\\LocalCache\\local-packages\\Python39\\site-packages\\statsmodels\\regression\\mixed_linear_model.py:2237: ConvergenceWarning: The MLE may be on the boundary of the parameter space.\n",
      "  warnings.warn(msg, ConvergenceWarning)\n",
      " 68%|██████▊   | 682/1000 [01:20<00:34,  9.16it/s]C:\\Users\\Conor\\AppData\\Local\\Packages\\PythonSoftwareFoundation.Python.3.9_qbz5n2kfra8p0\\LocalCache\\local-packages\\Python39\\site-packages\\statsmodels\\base\\model.py:604: ConvergenceWarning: Maximum Likelihood optimization failed to converge. Check mle_retvals\n",
      "  warnings.warn(\"Maximum Likelihood optimization failed to \"\n",
      "C:\\Users\\Conor\\AppData\\Local\\Packages\\PythonSoftwareFoundation.Python.3.9_qbz5n2kfra8p0\\LocalCache\\local-packages\\Python39\\site-packages\\statsmodels\\regression\\mixed_linear_model.py:2200: ConvergenceWarning: Retrying MixedLM optimization with lbfgs\n",
      "  warnings.warn(\n",
      "C:\\Users\\Conor\\AppData\\Local\\Packages\\PythonSoftwareFoundation.Python.3.9_qbz5n2kfra8p0\\LocalCache\\local-packages\\Python39\\site-packages\\statsmodels\\regression\\mixed_linear_model.py:2237: ConvergenceWarning: The MLE may be on the boundary of the parameter space.\n",
      "  warnings.warn(msg, ConvergenceWarning)\n",
      " 72%|███████▎  | 725/1000 [01:25<00:29,  9.34it/s]C:\\Users\\Conor\\AppData\\Local\\Packages\\PythonSoftwareFoundation.Python.3.9_qbz5n2kfra8p0\\LocalCache\\local-packages\\Python39\\site-packages\\statsmodels\\base\\model.py:604: ConvergenceWarning: Maximum Likelihood optimization failed to converge. Check mle_retvals\n",
      "  warnings.warn(\"Maximum Likelihood optimization failed to \"\n",
      "C:\\Users\\Conor\\AppData\\Local\\Packages\\PythonSoftwareFoundation.Python.3.9_qbz5n2kfra8p0\\LocalCache\\local-packages\\Python39\\site-packages\\statsmodels\\regression\\mixed_linear_model.py:2200: ConvergenceWarning: Retrying MixedLM optimization with lbfgs\n",
      "  warnings.warn(\n",
      "C:\\Users\\Conor\\AppData\\Local\\Packages\\PythonSoftwareFoundation.Python.3.9_qbz5n2kfra8p0\\LocalCache\\local-packages\\Python39\\site-packages\\statsmodels\\regression\\mixed_linear_model.py:2237: ConvergenceWarning: The MLE may be on the boundary of the parameter space.\n",
      "  warnings.warn(msg, ConvergenceWarning)\n",
      " 84%|████████▎ | 837/1000 [01:37<00:17,  9.11it/s]C:\\Users\\Conor\\AppData\\Local\\Packages\\PythonSoftwareFoundation.Python.3.9_qbz5n2kfra8p0\\LocalCache\\local-packages\\Python39\\site-packages\\statsmodels\\base\\model.py:604: ConvergenceWarning: Maximum Likelihood optimization failed to converge. Check mle_retvals\n",
      "  warnings.warn(\"Maximum Likelihood optimization failed to \"\n",
      "C:\\Users\\Conor\\AppData\\Local\\Packages\\PythonSoftwareFoundation.Python.3.9_qbz5n2kfra8p0\\LocalCache\\local-packages\\Python39\\site-packages\\statsmodels\\regression\\mixed_linear_model.py:2200: ConvergenceWarning: Retrying MixedLM optimization with lbfgs\n",
      "  warnings.warn(\n",
      "C:\\Users\\Conor\\AppData\\Local\\Packages\\PythonSoftwareFoundation.Python.3.9_qbz5n2kfra8p0\\LocalCache\\local-packages\\Python39\\site-packages\\statsmodels\\regression\\mixed_linear_model.py:2237: ConvergenceWarning: The MLE may be on the boundary of the parameter space.\n",
      "  warnings.warn(msg, ConvergenceWarning)\n",
      " 84%|████████▍ | 844/1000 [01:38<00:19,  7.93it/s]C:\\Users\\Conor\\AppData\\Local\\Packages\\PythonSoftwareFoundation.Python.3.9_qbz5n2kfra8p0\\LocalCache\\local-packages\\Python39\\site-packages\\statsmodels\\base\\model.py:604: ConvergenceWarning: Maximum Likelihood optimization failed to converge. Check mle_retvals\n",
      "  warnings.warn(\"Maximum Likelihood optimization failed to \"\n",
      "C:\\Users\\Conor\\AppData\\Local\\Packages\\PythonSoftwareFoundation.Python.3.9_qbz5n2kfra8p0\\LocalCache\\local-packages\\Python39\\site-packages\\statsmodels\\regression\\mixed_linear_model.py:2200: ConvergenceWarning: Retrying MixedLM optimization with lbfgs\n",
      "  warnings.warn(\n",
      " 89%|████████▉ | 893/1000 [01:44<00:11,  9.14it/s]C:\\Users\\Conor\\AppData\\Local\\Packages\\PythonSoftwareFoundation.Python.3.9_qbz5n2kfra8p0\\LocalCache\\local-packages\\Python39\\site-packages\\statsmodels\\regression\\mixed_linear_model.py:2237: ConvergenceWarning: The MLE may be on the boundary of the parameter space.\n",
      "  warnings.warn(msg, ConvergenceWarning)\n",
      " 94%|█████████▍| 944/1000 [01:49<00:05,  9.92it/s]C:\\Users\\Conor\\AppData\\Local\\Packages\\PythonSoftwareFoundation.Python.3.9_qbz5n2kfra8p0\\LocalCache\\local-packages\\Python39\\site-packages\\statsmodels\\base\\model.py:604: ConvergenceWarning: Maximum Likelihood optimization failed to converge. Check mle_retvals\n",
      "  warnings.warn(\"Maximum Likelihood optimization failed to \"\n",
      "C:\\Users\\Conor\\AppData\\Local\\Packages\\PythonSoftwareFoundation.Python.3.9_qbz5n2kfra8p0\\LocalCache\\local-packages\\Python39\\site-packages\\statsmodels\\regression\\mixed_linear_model.py:2200: ConvergenceWarning: Retrying MixedLM optimization with lbfgs\n",
      "  warnings.warn(\n",
      "100%|██████████| 1000/1000 [01:56<00:00,  8.62it/s]\n"
     ]
    },
    {
     "name": "stdout",
     "output_type": "stream",
     "text": [
      "Power with 5 mice: 0.172\n"
     ]
    },
    {
     "name": "stderr",
     "output_type": "stream",
     "text": [
      "  2%|▏         | 18/1000 [00:03<02:51,  5.73it/s]\n"
     ]
    },
    {
     "ename": "KeyboardInterrupt",
     "evalue": "",
     "output_type": "error",
     "traceback": [
      "\u001b[1;31m---------------------------------------------------------------------------\u001b[0m",
      "\u001b[1;31mKeyboardInterrupt\u001b[0m                         Traceback (most recent call last)",
      "Cell \u001b[1;32mIn[4], line 74\u001b[0m\n\u001b[0;32m     71\u001b[0m powers \u001b[38;5;241m=\u001b[39m []\n\u001b[0;32m     73\u001b[0m \u001b[38;5;28;01mfor\u001b[39;00m n_mice \u001b[38;5;129;01min\u001b[39;00m mice_range:\n\u001b[1;32m---> 74\u001b[0m     power \u001b[38;5;241m=\u001b[39m \u001b[43msimulate_power\u001b[49m\u001b[43m(\u001b[49m\u001b[43mn_mice\u001b[49m\u001b[38;5;241;43m=\u001b[39;49m\u001b[43mn_mice\u001b[49m\u001b[43m,\u001b[49m\u001b[43m \u001b[49m\u001b[43mn_neurons\u001b[49m\u001b[38;5;241;43m=\u001b[39;49m\u001b[38;5;241;43m1200\u001b[39;49m\u001b[43m,\u001b[49m\u001b[43m \u001b[49m\u001b[43meffect_size\u001b[49m\u001b[38;5;241;43m=\u001b[39;49m\u001b[38;5;241;43m0.2\u001b[39;49m\u001b[43m,\u001b[49m\u001b[43m \u001b[49m\u001b[43micc\u001b[49m\u001b[38;5;241;43m=\u001b[39;49m\u001b[38;5;241;43m0.3\u001b[39;49m\u001b[43m)\u001b[49m\n\u001b[0;32m     75\u001b[0m     powers\u001b[38;5;241m.\u001b[39mappend(power)\n\u001b[0;32m     76\u001b[0m     \u001b[38;5;28mprint\u001b[39m(\u001b[38;5;124mf\u001b[39m\u001b[38;5;124m\"\u001b[39m\u001b[38;5;124mPower with \u001b[39m\u001b[38;5;132;01m{\u001b[39;00mn_mice\u001b[38;5;132;01m}\u001b[39;00m\u001b[38;5;124m mice: \u001b[39m\u001b[38;5;132;01m{\u001b[39;00mpower\u001b[38;5;132;01m:\u001b[39;00m\u001b[38;5;124m.3f\u001b[39m\u001b[38;5;132;01m}\u001b[39;00m\u001b[38;5;124m\"\u001b[39m)\n",
      "Cell \u001b[1;32mIn[4], line 37\u001b[0m, in \u001b[0;36msimulate_power\u001b[1;34m(n_mice, n_neurons, effect_size, icc, n_simulations, alpha)\u001b[0m\n\u001b[0;32m     34\u001b[0m fixed_effect \u001b[38;5;241m=\u001b[39m effect_size \u001b[38;5;28;01mif\u001b[39;00m condition \u001b[38;5;241m==\u001b[39m \u001b[38;5;124m'\u001b[39m\u001b[38;5;124mtreatment\u001b[39m\u001b[38;5;124m'\u001b[39m \u001b[38;5;28;01melse\u001b[39;00m \u001b[38;5;241m0\u001b[39m\n\u001b[0;32m     36\u001b[0m \u001b[38;5;66;03m# Neuron-specific random effect\u001b[39;00m\n\u001b[1;32m---> 37\u001b[0m neuron_effect \u001b[38;5;241m=\u001b[39m \u001b[43mnp\u001b[49m\u001b[38;5;241;43m.\u001b[39;49m\u001b[43mrandom\u001b[49m\u001b[38;5;241;43m.\u001b[39;49m\u001b[43mnormal\u001b[49m\u001b[43m(\u001b[49m\u001b[38;5;241;43m0\u001b[39;49m\u001b[43m,\u001b[49m\u001b[43m \u001b[49m\u001b[43mnp\u001b[49m\u001b[38;5;241;43m.\u001b[39;49m\u001b[43msqrt\u001b[49m\u001b[43m(\u001b[49m\u001b[38;5;241;43m1\u001b[39;49m\u001b[38;5;241;43m-\u001b[39;49m\u001b[43micc\u001b[49m\u001b[43m)\u001b[49m\u001b[43m)\u001b[49m\n\u001b[0;32m     39\u001b[0m \u001b[38;5;66;03m# Response variable (e.g., ΔF/F)\u001b[39;00m\n\u001b[0;32m     40\u001b[0m response \u001b[38;5;241m=\u001b[39m fixed_effect \u001b[38;5;241m+\u001b[39m mouse_effect \u001b[38;5;241m+\u001b[39m neuron_effect\n",
      "\u001b[1;31mKeyboardInterrupt\u001b[0m: "
     ]
    }
   ],
   "source": [
    "import numpy as np\n",
    "import pandas as pd\n",
    "from statsmodels.regression.mixed_linear_model import MixedLM\n",
    "from tqdm import tqdm\n",
    "\n",
    "def simulate_power(n_mice=8, n_neurons=100, effect_size=0.2, \n",
    "                  icc=0.3, n_simulations=1000, alpha=0.05):\n",
    "    \"\"\"\n",
    "    Simulate power for calcium imaging experiment with:\n",
    "    - n_mice: number of mice\n",
    "    - n_neurons: neurons per mouse\n",
    "    - effect_size: expected effect size (as proportion)\n",
    "    - icc: intraclass correlation coefficient\n",
    "    - n_simulations: number of simulations to run\n",
    "    - alpha: significance level\n",
    "    \"\"\"\n",
    "    significant_results = 0\n",
    "    \n",
    "    for _ in tqdm(range(n_simulations)):\n",
    "        # Create empty dataframe\n",
    "        data = []\n",
    "        \n",
    "        # Generate data for each mouse\n",
    "        for mouse_id in range(n_mice):\n",
    "            # Half mice in control, half in treatment\n",
    "            condition = 'treatment' if mouse_id < n_mice/2 else 'control'\n",
    "            \n",
    "            # Mouse-specific random effect\n",
    "            mouse_effect = np.random.normal(0, np.sqrt(icc))\n",
    "            \n",
    "            # Generate neurons for this mouse\n",
    "            for neuron in range(n_neurons):\n",
    "                # Fixed effect of treatment\n",
    "                fixed_effect = effect_size if condition == 'treatment' else 0\n",
    "                \n",
    "                # Neuron-specific random effect\n",
    "                neuron_effect = np.random.normal(0, np.sqrt(1-icc))\n",
    "                \n",
    "                # Response variable (e.g., ΔF/F)\n",
    "                response = fixed_effect + mouse_effect + neuron_effect\n",
    "                \n",
    "                data.append({\n",
    "                    'mouse_id': mouse_id,\n",
    "                    'neuron_id': neuron,\n",
    "                    'condition': condition,\n",
    "                    'response': response\n",
    "                })\n",
    "        \n",
    "        # Convert to dataframe\n",
    "        df = pd.DataFrame(data)\n",
    "        \n",
    "        # Fit mixed-effects model\n",
    "        model = MixedLM.from_formula(\n",
    "            \"response ~ condition\", \n",
    "            groups=\"mouse_id\", \n",
    "            data=df\n",
    "        )\n",
    "        result = model.fit()\n",
    "        \n",
    "        # Check if treatment effect is significant\n",
    "        p_value = result.pvalues['condition[T.treatment]']\n",
    "        if p_value < alpha:\n",
    "            significant_results += 1\n",
    "    \n",
    "    # Calculate power\n",
    "    power = significant_results / n_simulations\n",
    "    return power\n",
    "\n",
    "# Run simulation with different numbers of mice\n",
    "mice_range = [5, 8, 10, 12, 15]\n",
    "powers = []\n",
    "\n",
    "for n_mice in mice_range:\n",
    "    power = simulate_power(n_mice=n_mice, n_neurons=1200, effect_size=0.2, icc=0.3)\n",
    "    powers.append(power)\n",
    "    print(f\"Power with {n_mice} mice: {power:.3f}\")"
   ]
  },
  {
   "cell_type": "code",
   "execution_count": 5,
   "id": "d09c6acf",
   "metadata": {},
   "outputs": [
    {
     "name": "stderr",
     "output_type": "stream",
     "text": [
      "100%|██████████| 1000/1000 [00:03<00:00, 266.85it/s]\n"
     ]
    },
    {
     "name": "stdout",
     "output_type": "stream",
     "text": [
      "Power with 5 mice: 0.069\n"
     ]
    },
    {
     "name": "stderr",
     "output_type": "stream",
     "text": [
      "100%|██████████| 1000/1000 [00:04<00:00, 245.66it/s]\n"
     ]
    },
    {
     "name": "stdout",
     "output_type": "stream",
     "text": [
      "Power with 8 mice: 0.076\n"
     ]
    },
    {
     "name": "stderr",
     "output_type": "stream",
     "text": [
      "100%|██████████| 1000/1000 [00:04<00:00, 200.02it/s]\n"
     ]
    },
    {
     "name": "stdout",
     "output_type": "stream",
     "text": [
      "Power with 10 mice: 0.075\n"
     ]
    },
    {
     "name": "stderr",
     "output_type": "stream",
     "text": [
      "100%|██████████| 1000/1000 [00:05<00:00, 196.89it/s]\n"
     ]
    },
    {
     "name": "stdout",
     "output_type": "stream",
     "text": [
      "Power with 12 mice: 0.083\n"
     ]
    },
    {
     "name": "stderr",
     "output_type": "stream",
     "text": [
      "100%|██████████| 1000/1000 [00:05<00:00, 175.26it/s]"
     ]
    },
    {
     "name": "stdout",
     "output_type": "stream",
     "text": [
      "Power with 15 mice: 0.102\n"
     ]
    },
    {
     "name": "stderr",
     "output_type": "stream",
     "text": [
      "\n"
     ]
    }
   ],
   "source": [
    "import numpy as np\n",
    "import pandas as pd\n",
    "from scipy import stats\n",
    "from tqdm import tqdm\n",
    "\n",
    "def simulate_power_aggregated(n_mice=8, n_neurons=100, effect_size=0.2, \n",
    "                             icc=0.3, n_simulations=1000, alpha=0.05):\n",
    "    \"\"\"\n",
    "    Simulate power for calcium imaging experiment using aggregated data at mouse level.\n",
    "    \"\"\"\n",
    "    significant_results = 0\n",
    "    \n",
    "    for _ in tqdm(range(n_simulations)):\n",
    "        # Generate mouse-level means\n",
    "        treatment_mice = []\n",
    "        control_mice = []\n",
    "        \n",
    "        # Generate data for each mouse\n",
    "        for mouse_id in range(n_mice):\n",
    "            # Half mice in control, half in treatment\n",
    "            is_treatment = mouse_id < n_mice/2\n",
    "            \n",
    "            # Mouse-specific random effect\n",
    "            mouse_effect = np.random.normal(0, np.sqrt(icc))\n",
    "            \n",
    "            # Generate neurons for this mouse and calculate mean\n",
    "            neuron_responses = []\n",
    "            for _ in range(n_neurons):\n",
    "                # Fixed effect of treatment\n",
    "                fixed_effect = effect_size if is_treatment else 0\n",
    "                \n",
    "                # Neuron-specific random effect\n",
    "                neuron_effect = np.random.normal(0, np.sqrt(1-icc))\n",
    "                \n",
    "                # Response variable (e.g., ΔF/F)\n",
    "                response = fixed_effect + mouse_effect + neuron_effect\n",
    "                neuron_responses.append(response)\n",
    "            \n",
    "            # Calculate mean response for this mouse\n",
    "            mouse_mean = np.mean(neuron_responses)\n",
    "            \n",
    "            if is_treatment:\n",
    "                treatment_mice.append(mouse_mean)\n",
    "            else:\n",
    "                control_mice.append(mouse_mean)\n",
    "        \n",
    "        # Run t-test on mouse-level data\n",
    "        t_stat, p_value = stats.ttest_ind(treatment_mice, control_mice)\n",
    "        \n",
    "        if p_value < alpha:\n",
    "            significant_results += 1\n",
    "    \n",
    "    # Calculate power\n",
    "    power = significant_results / n_simulations\n",
    "    return power\n",
    "\n",
    "# Run simulation with different numbers of mice\n",
    "mice_range = [5, 8, 10, 12, 15]\n",
    "powers = []\n",
    "\n",
    "for n_mice in mice_range:\n",
    "    power = simulate_power_aggregated(n_mice=n_mice, n_neurons=100, effect_size=0.2, icc=0.3, n_simulations=1000)\n",
    "    powers.append(power)\n",
    "    print(f\"Power with {n_mice} mice: {power:.3f}\")"
   ]
  },
  {
   "cell_type": "code",
   "execution_count": 6,
   "id": "5c5c0db2",
   "metadata": {},
   "outputs": [
    {
     "name": "stderr",
     "output_type": "stream",
     "text": [
      "100%|██████████| 1000/1000 [00:02<00:00, 489.70it/s]\n"
     ]
    },
    {
     "name": "stdout",
     "output_type": "stream",
     "text": [
      "Power with parameters {'between_mouse_cv': 0.15, 'within_mouse_cv': 0.3}: 0.368\n"
     ]
    },
    {
     "name": "stderr",
     "output_type": "stream",
     "text": [
      "100%|██████████| 1000/1000 [00:02<00:00, 482.25it/s]\n"
     ]
    },
    {
     "name": "stdout",
     "output_type": "stream",
     "text": [
      "Power with parameters {'between_mouse_cv': 0.2, 'within_mouse_cv': 0.4}: 0.207\n"
     ]
    },
    {
     "name": "stderr",
     "output_type": "stream",
     "text": [
      "100%|██████████| 1000/1000 [00:02<00:00, 449.55it/s]"
     ]
    },
    {
     "name": "stdout",
     "output_type": "stream",
     "text": [
      "Power with parameters {'between_mouse_cv': 0.25, 'within_mouse_cv': 0.5}: 0.147\n"
     ]
    },
    {
     "name": "stderr",
     "output_type": "stream",
     "text": [
      "\n"
     ]
    }
   ],
   "source": [
    "import numpy as np\n",
    "import pandas as pd\n",
    "from scipy import stats\n",
    "from tqdm import tqdm\n",
    "\n",
    "def simulate_power_with_real_params(n_mice=8, n_neurons=300, \n",
    "                                   mean_diff_percent=20, \n",
    "                                   control_mean=1.0,  # Baseline activity level\n",
    "                                   between_mouse_cv=0.3,  # Coefficient of variation between mice\n",
    "                                   within_mouse_cv=0.5,  # Coefficient of variation within mice\n",
    "                                   n_simulations=1000, alpha=0.05):\n",
    "    \"\"\"\n",
    "    Simulate power using parameters matched to real calcium imaging data.\n",
    "    - mean_diff_percent: Percent change between conditions (20% = 0.2)\n",
    "    - control_mean: Baseline average response\n",
    "    - between_mouse_cv: Coefficient of variation between mice (mouse-to-mouse variability)\n",
    "    - within_mouse_cv: Coefficient of variation within mouse (neuron-to-neuron variability)\n",
    "    \"\"\"\n",
    "    significant_results = 0\n",
    "    \n",
    "    # Convert percent difference to absolute\n",
    "    treatment_mean = control_mean * (1 + mean_diff_percent/100)\n",
    "    \n",
    "    # Calculate standard deviations\n",
    "    between_mouse_sd = control_mean * between_mouse_cv\n",
    "    within_mouse_sd = control_mean * within_mouse_cv\n",
    "    \n",
    "    for _ in tqdm(range(n_simulations)):\n",
    "        # Generate mouse-level means\n",
    "        treatment_mice = []\n",
    "        control_mice = []\n",
    "        \n",
    "        # Generate data for each mouse\n",
    "        n_treatment = n_mice // 2\n",
    "        n_control = n_mice - n_treatment\n",
    "        \n",
    "        # Treatment mice\n",
    "        for _ in range(n_treatment):\n",
    "            # Mouse-specific baseline (random effect)\n",
    "            mouse_baseline = np.random.normal(treatment_mean, between_mouse_sd)\n",
    "            \n",
    "            # Generate neurons for this mouse\n",
    "            neuron_responses = np.random.normal(mouse_baseline, within_mouse_sd, size=n_neurons)\n",
    "            mouse_mean = np.mean(neuron_responses)\n",
    "            treatment_mice.append(mouse_mean)\n",
    "        \n",
    "        # Control mice\n",
    "        for _ in range(n_control):\n",
    "            # Mouse-specific baseline (random effect)\n",
    "            mouse_baseline = np.random.normal(control_mean, between_mouse_sd)\n",
    "            \n",
    "            # Generate neurons for this mouse\n",
    "            neuron_responses = np.random.normal(mouse_baseline, within_mouse_sd, size=n_neurons)\n",
    "            mouse_mean = np.mean(neuron_responses)\n",
    "            control_mice.append(mouse_mean)\n",
    "        \n",
    "        # Run t-test on mouse-level data\n",
    "        t_stat, p_value = stats.ttest_ind(treatment_mice, control_mice)\n",
    "        \n",
    "        if p_value < alpha:\n",
    "            significant_results += 1\n",
    "    \n",
    "    # Calculate power\n",
    "    power = significant_results / n_simulations\n",
    "    return power\n",
    "\n",
    "# Test different parameter combinations to match your observed results\n",
    "parameter_sets = [\n",
    "    {\"between_mouse_cv\": 0.15, \"within_mouse_cv\": 0.30},  # Low variability between mice\n",
    "    {\"between_mouse_cv\": 0.20, \"within_mouse_cv\": 0.40},  # Medium variability\n",
    "    {\"between_mouse_cv\": 0.25, \"within_mouse_cv\": 0.50}   # Higher variability\n",
    "]\n",
    "\n",
    "# Run simulations\n",
    "for params in parameter_sets:\n",
    "    power = simulate_power_with_real_params(\n",
    "        n_mice=8, \n",
    "        n_neurons=300,  # Assuming 200 neurons per mouse \n",
    "        mean_diff_percent=20,  # 20% difference\n",
    "        between_mouse_cv=params[\"between_mouse_cv\"],\n",
    "        within_mouse_cv=params[\"within_mouse_cv\"],\n",
    "        n_simulations=1000\n",
    "    )\n",
    "    print(f\"Power with parameters {params}: {power:.3f}\")"
   ]
  }
 ],
 "metadata": {
  "kernelspec": {
   "display_name": "Python 3",
   "language": "python",
   "name": "python3"
  },
  "language_info": {
   "codemirror_mode": {
    "name": "ipython",
    "version": 3
   },
   "file_extension": ".py",
   "mimetype": "text/x-python",
   "name": "python",
   "nbconvert_exporter": "python",
   "pygments_lexer": "ipython3",
   "version": "3.9.13"
  }
 },
 "nbformat": 4,
 "nbformat_minor": 5
}
