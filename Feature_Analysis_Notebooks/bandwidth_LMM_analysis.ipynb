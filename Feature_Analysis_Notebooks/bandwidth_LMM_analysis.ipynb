{
 "cells": [
  {
   "cell_type": "code",
   "execution_count": 80,
   "id": "e21f5e9a",
   "metadata": {},
   "outputs": [],
   "source": [
    "import matplotlib.pyplot as plt\n",
    "import numpy as np\n",
    "import pandas as pd\n",
    "import os\n",
    "import pickle\n",
    "from scipy.stats import kstest\n",
    "from collections import Counter\n",
    "from scipy.stats import sem \n",
    "import pingouin as pg"
   ]
  },
  {
   "cell_type": "code",
   "execution_count": 3,
   "id": "f745310f",
   "metadata": {},
   "outputs": [],
   "source": [
    "# INPUTS:\n",
    "\n",
    "filepath = \"F:/Two-Photon/Psilocybin Project/Evoked Cohort Mice/compiled_dicts\"\n",
    "z_thresh = 4"
   ]
  },
  {
   "cell_type": "code",
   "execution_count": 34,
   "id": "05dea0cb",
   "metadata": {},
   "outputs": [],
   "source": [
    "# Calculate the bandwidth of the cell using the half-max criterion, i.e. the continous range of responsive frequencies from the max response\n",
    "# that show a response above 50% of the maximum response.  \n",
    "# INPUTS:  Tuning array for the specified intensity (e.g. BF_column_1) in get_bandwidth_all_cells func.\n",
    "\n",
    "def count_above_half_max(array):\n",
    "    max_value = max(array)\n",
    "    count = 0\n",
    "    \n",
    "    # Find the index of the maximum value in the array\n",
    "    max_index = array.argmax()\n",
    "    \n",
    "    # Start from the index of the maximum value and iterate downwards\n",
    "    index = max_index\n",
    "    while index >= 0 and array[index] >= max_value / 2:\n",
    "        count += 1\n",
    "        index -= 1\n",
    "    \n",
    "    # Start from the index of the maximum value and iterate upwards\n",
    "    index = max_index + 1  # Start from the next index\n",
    "    while index < len(array) and array[index] >= max_value / 2:\n",
    "        count += 1\n",
    "        index += 1\n",
    "    \n",
    "    return count"
   ]
  },
  {
   "cell_type": "code",
   "execution_count": 5,
   "id": "566fff68",
   "metadata": {},
   "outputs": [],
   "source": [
    "# Dictionary to map filenames to variable names\n",
    "file_variable_mapping = {\n",
    "    'saline_pre_dict.pkl': 'saline_pre',\n",
    "    'saline_post_dict.pkl': 'saline_post',\n",
    "    'psilo_pre_dict.pkl': 'psilo_pre',\n",
    "    'psilo_post_dict.pkl': 'psilo_post'\n",
    "}\n",
    "\n",
    "# Initialize empty dictionaries\n",
    "saline_pre = {}\n",
    "saline_post = {}\n",
    "psilo_pre = {}\n",
    "psilo_post = {}\n",
    "\n",
    "# Iterate through files in megadict folder\n",
    "for filename in os.listdir(filepath):\n",
    "    if filename in file_variable_mapping:\n",
    "        file_path = os.path.join(filepath, filename)\n",
    "        with open(file_path, 'rb') as file:\n",
    "            # Load pkl file and assign to respective dictionary variable\n",
    "            globals()[file_variable_mapping[filename]] = pickle.load(file)"
   ]
  },
  {
   "cell_type": "code",
   "execution_count": 45,
   "id": "a5c3a966",
   "metadata": {},
   "outputs": [
    {
     "name": "stdout",
     "output_type": "stream",
     "text": [
      "[[ 3.16538123e-01  1.77550443e+00  2.22869004e+00  5.66163589e-02]\n",
      " [ 2.00911175e-01  1.77368629e-01  2.40527420e-01  4.35925805e+00]\n",
      " [-2.52082877e-02  6.57310664e-02  2.33093291e-02  2.04954830e-01]\n",
      " [ 3.47114691e-01  4.41682848e-01  1.15507641e-01  3.05342290e-03]\n",
      " [ 7.07331762e-01  9.92378112e-01  7.26539551e-02  8.21607578e-01]\n",
      " [ 9.89843390e-01 -2.31348181e-02  9.78258737e-02  8.12818474e-02]\n",
      " [ 1.43558142e+00  6.04120067e-03  3.36815358e-01  1.14771081e+00]\n",
      " [ 1.22593969e-02  2.73537928e-01  6.21261304e-01  9.82298265e-02]\n",
      " [ 4.24616884e-02  4.82212575e-01  1.76020442e-02  1.15226519e-01]\n",
      " [ 9.06170423e-02  1.02153691e-01  8.15918672e-02  9.02214273e-03]\n",
      " [ 4.89330443e-02  5.67275012e-02 -6.88913318e-02  1.96792864e-01]\n",
      " [ 1.74754141e-02  1.15771675e-01  7.03608404e-02  7.25248793e-01]]\n"
     ]
    }
   ],
   "source": [
    "print(saline_pre['saline_1_186'][18]['peak_tuning'])"
   ]
  },
  {
   "cell_type": "code",
   "execution_count": null,
   "id": "56093caa",
   "metadata": {},
   "outputs": [],
   "source": [
    "'''\n",
    "Pseudocode:\n",
    "\n",
    "Add a 'bandwidth' key to each cell that will contain an array of 4 values. Fill with zeroes first.\n",
    "\n",
    "For each cell, use the half_max function to compute the bandwidth at that sound level and store it in the array.\n",
    "\n",
    "\n",
    "\n",
    "\n",
    "'''"
   ]
  },
  {
   "cell_type": "code",
   "execution_count": null,
   "id": "488bd7c8",
   "metadata": {},
   "outputs": [],
   "source": [
    "\n",
    "\n",
    "\n",
    "bandwidth_array = [0,0,0,0]\n",
    "\n",
    "if saline_pre['saline_1_186'][12]['active'] == True:\n",
    "    for level in range(No_sound_levels):\n",
    "        level_array = saline_pre['saline_1_186'][4]['peak_tuning'][:,level]\n",
    "        if any(value >= z_thresh for value in level_array):\n",
    "            bandwidth_array[level] = count_above_half_max(level_array)\n",
    "saline_pre['saline_1_186'][12]['bandwidth'] = bandwidth_array"
   ]
  },
  {
   "cell_type": "code",
   "execution_count": 55,
   "id": "6ed3bf22",
   "metadata": {},
   "outputs": [],
   "source": [
    "def calculate_all_bandwidths(dict,No_sound_levels):\n",
    "\n",
    "    sub_dict_keys = dict.keys()\n",
    "    count = 0\n",
    "\n",
    "    for sub_dict in sub_dict_keys:\n",
    "        for cell in dict[sub_dict]:\n",
    "\n",
    "            if dict[sub_dict][cell]['active'] == True:\n",
    "                bandwidth_array = [0,0,0,0]\n",
    "                count += 1\n",
    "\n",
    "                for level in range(No_sound_levels):\n",
    "                    level_array = dict[sub_dict][cell]['peak_tuning'][:,level]\n",
    "                    if any(value >= z_thresh for value in level_array):\n",
    "                        bandwidth_array[level] = count_above_half_max(level_array)\n",
    "        \n",
    "                dict[sub_dict][cell]['bandwidth'] = bandwidth_array\n",
    "    print(\"The total number of cells in this cohort is\", count)\n",
    "\n",
    "        "
   ]
  },
  {
   "cell_type": "code",
   "execution_count": 56,
   "id": "7d01f1eb",
   "metadata": {},
   "outputs": [
    {
     "name": "stdout",
     "output_type": "stream",
     "text": [
      "The total number of cells in this cohort is 1307\n",
      "The total number of cells in this cohort is 1222\n",
      "The total number of cells in this cohort is 1194\n",
      "The total number of cells in this cohort is 1214\n"
     ]
    }
   ],
   "source": [
    "No_sound_levels = 4\n",
    "calculate_all_bandwidths(saline_pre,No_sound_levels)\n",
    "calculate_all_bandwidths(saline_post,No_sound_levels)\n",
    "calculate_all_bandwidths(psilo_pre,No_sound_levels)\n",
    "calculate_all_bandwidths(psilo_post,No_sound_levels)"
   ]
  },
  {
   "cell_type": "code",
   "execution_count": 71,
   "id": "2fef3dd0",
   "metadata": {},
   "outputs": [
    {
     "name": "stdout",
     "output_type": "stream",
     "text": [
      "[2, 1, 2, 2]\n"
     ]
    }
   ],
   "source": [
    "print(saline_pre['saline_1_186'][30]['bandwidth'])"
   ]
  },
  {
   "cell_type": "code",
   "execution_count": 92,
   "id": "f7e304b8",
   "metadata": {},
   "outputs": [],
   "source": [
    "def dict_to_pd_bandwidth(dict,condition):\n",
    "    rows = []\n",
    "\n",
    "    for mouse_id, mouse_data in dict.items():\n",
    "\n",
    "        base_mouse_id = mouse_id[-3:]\n",
    "\n",
    "        for cell_id, cell_data in mouse_data.items():\n",
    "\n",
    "            if cell_data['active'] == True:\n",
    "                unique_cell_id = f\"{mouse_id}_{condition}_{cell_id}\"\n",
    "                row = {\n",
    "                    'original_mouse_id': mouse_id,\n",
    "                    'mouse_id': base_mouse_id,\n",
    "                    'cell': cell_id,\n",
    "                    'condition': condition,\n",
    "                    'unique_cell_id': unique_cell_id,\n",
    "                    'bandwidth_35': cell_data['bandwidth'][0],\n",
    "                    'bandwidth_50': cell_data['bandwidth'][1],\n",
    "                    'bandwidth_65': cell_data['bandwidth'][2],\n",
    "                    'bandwidth_80': cell_data['bandwidth'][3]\n",
    "                }\n",
    "                rows.append(row)\n",
    "    df = pd.DataFrame(rows)\n",
    "\n",
    "    return df"
   ]
  },
  {
   "cell_type": "code",
   "execution_count": 93,
   "id": "6bcce595",
   "metadata": {},
   "outputs": [
    {
     "name": "stdout",
     "output_type": "stream",
     "text": [
      "(2529, 9)\n",
      "(2408, 9)\n"
     ]
    }
   ],
   "source": [
    "rows_pre_saline = dict_to_pd_bandwidth(saline_pre,'pre')\n",
    "rows_post_saline = dict_to_pd_bandwidth(saline_post,'post')\n",
    "\n",
    "rows_pre_psilo = dict_to_pd_bandwidth(psilo_pre,'pre')\n",
    "rows_post_psilo = dict_to_pd_bandwidth(psilo_post,'post')\n",
    "\n",
    "saline_data = pd.concat([rows_pre_saline,rows_post_saline])\n",
    "psilo_data = pd.concat([rows_pre_psilo,rows_post_psilo])\n",
    "print(saline_data.shape)\n",
    "print(psilo_data.shape)\n",
    "\n"
   ]
  },
  {
   "cell_type": "code",
   "execution_count": 94,
   "id": "1c0ea52c",
   "metadata": {},
   "outputs": [],
   "source": [
    "# First, prepare data in long format\n",
    "def prepare_for_anova(df):\n",
    "    long_df = pd.melt(\n",
    "        df, \n",
    "        id_vars=['mouse_id', 'cell', 'condition'],\n",
    "        value_vars=['bandwidth_35', 'bandwidth_50', 'bandwidth_65', 'bandwidth_80'],\n",
    "        var_name='bandwidth_level', \n",
    "        value_name='bandwidth_value'\n",
    "    )\n",
    "    # Extract numeric bandwidth level\n",
    "    long_df['bandwidth_level'] = long_df['bandwidth_level'].str.extract('(\\d+)').astype(int)\n",
    "    return long_df\n",
    "\n",
    "# Run the split-plot ANOVA using pingouin\n",
    "def run_split_plot_anova(long_df):\n",
    "    # Mixed ANOVA with:\n",
    "    # - condition as between-subjects factor\n",
    "    # - bandwidth_level as within-subjects factor\n",
    "    # - subject identifier as mouse_id:cell (each cell is a subject)\n",
    "    aov = pg.mixed_anova(dv='bandwidth_value', \n",
    "                         within='bandwidth_level',\n",
    "                         between='condition',\n",
    "                         subject='cell', \n",
    "                         data=long_df)\n",
    "    return aov"
   ]
  },
  {
   "cell_type": "code",
   "execution_count": 83,
   "id": "8ae93aab",
   "metadata": {},
   "outputs": [],
   "source": [
    "import statsmodels.api as sm\n",
    "from statsmodels.formula.api import ols\n",
    "\n",
    "def run_nested_anova(long_df):\n",
    "    # Nesting cells within condition and mice\n",
    "    formula = 'bandwidth_value ~ C(condition) * C(bandwidth_level) + C(mouse_id)'\n",
    "    model = ols(formula, data=long_df).fit()\n",
    "    anova_table = sm.stats.anova_lm(model, typ=2)\n",
    "    return anova_table"
   ]
  },
  {
   "cell_type": "code",
   "execution_count": 86,
   "id": "dd0707da",
   "metadata": {},
   "outputs": [],
   "source": [
    "prepared_saline = prepare_for_anova(saline_data)\n",
    "prepared_psilo = prepare_for_anova(psilo_data)\n"
   ]
  },
  {
   "cell_type": "code",
   "execution_count": 103,
   "id": "35ec86e9",
   "metadata": {},
   "outputs": [
    {
     "name": "stdout",
     "output_type": "stream",
     "text": [
      "\n",
      "Results for bandwidth 35:\n",
      "                  Coef. Std.Err.      z  P>|z| [0.025 0.975]\n",
      "Intercept         0.299    0.067  4.445  0.000  0.167  0.431\n",
      "condition[T.pre]  0.052    0.024  2.199  0.028  0.006  0.098\n",
      "Group Var         0.034    0.032                            \n",
      "\n",
      "Results for bandwidth 50:\n",
      "                  Coef. Std.Err.      z  P>|z| [0.025 0.975]\n",
      "Intercept         0.371    0.067  5.548  0.000  0.240  0.502\n",
      "condition[T.pre]  0.076    0.026  2.916  0.004  0.025  0.127\n",
      "Group Var         0.033    0.028                            \n",
      "\n",
      "Results for bandwidth 65:\n",
      "                  Coef. Std.Err.      z  P>|z| [0.025 0.975]\n",
      "Intercept         0.510    0.060  8.566  0.000  0.394  0.627\n",
      "condition[T.pre]  0.074    0.032  2.326  0.020  0.012  0.136\n",
      "Group Var         0.024    0.018                            \n",
      "\n",
      "Results for bandwidth 80:\n",
      "                  Coef. Std.Err.      z  P>|z| [0.025 0.975]\n",
      "Intercept         0.545    0.066  8.226  0.000  0.415  0.675\n",
      "condition[T.pre]  0.153    0.042  3.690  0.000  0.072  0.234\n",
      "Group Var         0.027    0.017                            \n"
     ]
    }
   ],
   "source": [
    "# Create separate dataframes for each bandwidth level\n",
    "bandwidth_levels = [35, 50, 65, 80]\n",
    "results = {}\n",
    "\n",
    "for bw in bandwidth_levels:\n",
    "    # Filter data for this bandwidth level\n",
    "    bw_data = saline_data[['mouse_id', 'unique_cell_id', 'condition', f'bandwidth_{bw}']]\n",
    "    \n",
    "    # Rename for clarity\n",
    "    bw_data = bw_data.rename(columns={f'bandwidth_{bw}': 'bandwidth_value'})\n",
    "    \n",
    "    # Fit model for this bandwidth level\n",
    "    model = smf.mixedlm(\n",
    "        \"bandwidth_value ~ condition\", \n",
    "        bw_data, \n",
    "        groups=bw_data[\"mouse_id\"]\n",
    "    )\n",
    "    \n",
    "    try:\n",
    "        # Store results if convergence successful\n",
    "        results[bw] = model.fit()\n",
    "        print(f\"\\nResults for bandwidth {bw}:\")\n",
    "        print(results[bw].summary().tables[1])  # Print only coefficients table\n",
    "    except:\n",
    "        print(f\"\\nConvergence failed for bandwidth {bw}\")"
   ]
  },
  {
   "cell_type": "code",
   "execution_count": 101,
   "id": "273707d6",
   "metadata": {},
   "outputs": [
    {
     "name": "stdout",
     "output_type": "stream",
     "text": [
      "\n",
      "Results for bandwidth 35:\n",
      "                   Coef. Std.Err.       z  P>|z|  [0.025 0.975]\n",
      "Intercept          0.347    0.058   5.985  0.000   0.233  0.460\n",
      "condition[T.pre]  -0.035    0.024  -1.412  0.158  -0.082  0.013\n",
      "Group Var          0.024    0.023                              \n",
      "\n",
      "Results for bandwidth 50:\n",
      "                  Coef. Std.Err.      z  P>|z|  [0.025 0.975]\n",
      "Intercept         0.366    0.042  8.694  0.000   0.283  0.448\n",
      "condition[T.pre]  0.009    0.027  0.319  0.750  -0.044  0.062\n",
      "Group Var         0.011    0.011                             \n",
      "\n",
      "Results for bandwidth 65:\n",
      "                  Coef. Std.Err.      z  P>|z|  [0.025 0.975]\n",
      "Intercept         0.453    0.052  8.728  0.000   0.351  0.555\n",
      "condition[T.pre]  0.035    0.034  1.027  0.304  -0.032  0.101\n",
      "Group Var         0.017    0.013                             \n",
      "\n",
      "Results for bandwidth 80:\n",
      "                  Coef. Std.Err.       z  P>|z| [0.025 0.975]\n",
      "Intercept         0.438    0.039  11.359  0.000  0.362  0.514\n",
      "condition[T.pre]  0.091    0.040   2.267  0.023  0.012  0.170\n",
      "Group Var         0.005    0.005                             \n"
     ]
    },
    {
     "name": "stderr",
     "output_type": "stream",
     "text": [
      "C:\\Users\\Conor\\AppData\\Local\\Packages\\PythonSoftwareFoundation.Python.3.9_qbz5n2kfra8p0\\LocalCache\\local-packages\\Python39\\site-packages\\statsmodels\\regression\\mixed_linear_model.py:2237: ConvergenceWarning: The MLE may be on the boundary of the parameter space.\n",
      "  warnings.warn(msg, ConvergenceWarning)\n"
     ]
    }
   ],
   "source": [
    "# Create separate dataframes for each bandwidth level\n",
    "bandwidth_levels = [35, 50, 65, 80]\n",
    "results = {}\n",
    "\n",
    "for bw in bandwidth_levels:\n",
    "    # Filter data for this bandwidth level\n",
    "    bw_data = psilo_data[['mouse_id', 'unique_cell_id', 'condition', f'bandwidth_{bw}']]\n",
    "    \n",
    "    # Rename for clarity\n",
    "    bw_data = bw_data.rename(columns={f'bandwidth_{bw}': 'bandwidth_value'})\n",
    "    \n",
    "    # Fit model for this bandwidth level\n",
    "    model = smf.mixedlm(\n",
    "        \"bandwidth_value ~ condition\", \n",
    "        bw_data, \n",
    "        groups=bw_data[\"mouse_id\"]\n",
    "    )\n",
    "    \n",
    "    try:\n",
    "        # Store results if convergence successful\n",
    "        results[bw] = model.fit()\n",
    "        print(f\"\\nResults for bandwidth {bw}:\")\n",
    "        print(results[bw].summary().tables[1])  # Print only coefficients table\n",
    "    except:\n",
    "        print(f\"\\nConvergence failed for bandwidth {bw}\")"
   ]
  },
  {
   "cell_type": "code",
   "execution_count": 104,
   "id": "2fe6c136",
   "metadata": {},
   "outputs": [
    {
     "name": "stdout",
     "output_type": "stream",
     "text": [
      "\n",
      "Results after FDR correction:\n",
      "   Bandwidth  Coefficient  Std_Error  Original_p     FDR_p  Significant\n",
      "0         35     0.051685   0.023502    0.027863  0.027863         True\n",
      "1         50     0.075800   0.025994    0.003544  0.007089         True\n",
      "2         65     0.073616   0.031647    0.020011  0.026681         True\n",
      "3         80     0.153154   0.041504    0.000224  0.000897         True\n",
      "\n",
      "Detailed summary:\n",
      "\n",
      "Bandwidth 35:\n",
      "  Effect of condition[T.pre]: 0.0517 ± 0.0235\n",
      "  Original p-value: 0.0279\n",
      "  FDR-corrected p-value: 0.0279\n",
      "  Result: significant after FDR correction\n",
      "\n",
      "Bandwidth 50:\n",
      "  Effect of condition[T.pre]: 0.0758 ± 0.0260\n",
      "  Original p-value: 0.0035\n",
      "  FDR-corrected p-value: 0.0071\n",
      "  Result: significant after FDR correction\n",
      "\n",
      "Bandwidth 65:\n",
      "  Effect of condition[T.pre]: 0.0736 ± 0.0316\n",
      "  Original p-value: 0.0200\n",
      "  FDR-corrected p-value: 0.0267\n",
      "  Result: significant after FDR correction\n",
      "\n",
      "Bandwidth 80:\n",
      "  Effect of condition[T.pre]: 0.1532 ± 0.0415\n",
      "  Original p-value: 0.0002\n",
      "  FDR-corrected p-value: 0.0009\n",
      "  Result: significant after FDR correction\n"
     ]
    }
   ],
   "source": [
    "import numpy as np\n",
    "import pandas as pd\n",
    "from statsmodels.stats.multitest import multipletests\n",
    "\n",
    "# Your bandwidth levels\n",
    "bandwidth_levels = [35, 50, 65, 80]\n",
    "pvalues = []\n",
    "coefs = []\n",
    "stderr = []\n",
    "\n",
    "# Use the correct parameter name: 'condition[T.pre]'\n",
    "param_name = 'condition[T.pre]'\n",
    "\n",
    "for bw in bandwidth_levels:\n",
    "    try:\n",
    "        # Extract p-value, coefficient, and standard error\n",
    "        pvalues.append(results[bw].pvalues[param_name])\n",
    "        coefs.append(results[bw].params[param_name])\n",
    "        stderr.append(results[bw].bse[param_name])\n",
    "    except KeyError:\n",
    "        print(f\"Parameter '{param_name}' not found for bandwidth {bw}\")\n",
    "        # Print available parameters to help debug\n",
    "        print(f\"Available parameters: {results[bw].params.index.tolist()}\")\n",
    "        pvalues.append(np.nan)\n",
    "        coefs.append(np.nan)\n",
    "        stderr.append(np.nan)\n",
    "\n",
    "# Remove any NaN values before applying FDR correction\n",
    "valid_indices = ~np.isnan(pvalues)\n",
    "valid_pvals = [p for i, p in enumerate(pvalues) if valid_indices[i]]\n",
    "\n",
    "if valid_pvals:\n",
    "    # Apply FDR correction\n",
    "    reject, pvals_corrected, _, _ = multipletests(valid_pvals, method='fdr_bh', alpha=0.05)\n",
    "    \n",
    "    # Put corrected values back in original order\n",
    "    all_pvals_corrected = [np.nan] * len(pvalues)\n",
    "    all_reject = [False] * len(pvalues)\n",
    "    \n",
    "    j = 0\n",
    "    for i in range(len(pvalues)):\n",
    "        if valid_indices[i]:\n",
    "            all_pvals_corrected[i] = pvals_corrected[j]\n",
    "            all_reject[i] = reject[j]\n",
    "            j += 1\n",
    "else:\n",
    "    print(\"No valid p-values found for FDR correction\")\n",
    "    all_pvals_corrected = [np.nan] * len(pvalues)\n",
    "    all_reject = [False] * len(pvalues)\n",
    "\n",
    "# Create summary table\n",
    "results_table = pd.DataFrame({\n",
    "    'Bandwidth': bandwidth_levels,\n",
    "    'Coefficient': coefs,\n",
    "    'Std_Error': stderr,\n",
    "    'Original_p': pvalues,\n",
    "    'FDR_p': all_pvals_corrected,\n",
    "    'Significant': all_reject\n",
    "})\n",
    "\n",
    "print(\"\\nResults after FDR correction:\")\n",
    "print(results_table)\n",
    "\n",
    "# Create a more detailed report\n",
    "print(\"\\nDetailed summary:\")\n",
    "for i, bw in enumerate(bandwidth_levels):\n",
    "    if np.isnan(pvalues[i]):\n",
    "        print(f\"\\nBandwidth {bw}: No valid results\")\n",
    "        continue\n",
    "        \n",
    "    sig_status = \"significant\" if all_reject[i] else \"not significant\"\n",
    "    print(f\"\\nBandwidth {bw}:\")\n",
    "    print(f\"  Effect of condition[T.pre]: {coefs[i]:.4f} ± {stderr[i]:.4f}\")\n",
    "    print(f\"  Original p-value: {pvalues[i]:.4f}\")\n",
    "    print(f\"  FDR-corrected p-value: {all_pvals_corrected[i]:.4f}\")\n",
    "    print(f\"  Result: {sig_status} after FDR correction\")"
   ]
  }
 ],
 "metadata": {
  "kernelspec": {
   "display_name": "Python 3",
   "language": "python",
   "name": "python3"
  },
  "language_info": {
   "codemirror_mode": {
    "name": "ipython",
    "version": 3
   },
   "file_extension": ".py",
   "mimetype": "text/x-python",
   "name": "python",
   "nbconvert_exporter": "python",
   "pygments_lexer": "ipython3",
   "version": "3.9.13"
  }
 },
 "nbformat": 4,
 "nbformat_minor": 5
}
