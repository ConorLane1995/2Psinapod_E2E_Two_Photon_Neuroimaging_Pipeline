{
 "cells": [
  {
   "cell_type": "code",
   "execution_count": 1,
   "id": "afe4ae44",
   "metadata": {},
   "outputs": [],
   "source": [
    "import matplotlib.pyplot as plt\n",
    "import numpy as np\n",
    "import pandas as pd\n",
    "import os\n",
    "import pickle\n",
    "from scipy.stats import kstest\n",
    "from collections import Counter\n",
    "from scipy.stats import sem \n",
    "import pingouin as pg\n",
    "import statsmodels.formula.api as smf\n",
    "from statsmodels.stats.multitest import multipletests\n",
    "import seaborn as sns"
   ]
  },
  {
   "cell_type": "code",
   "execution_count": 3,
   "id": "d39c3b85",
   "metadata": {},
   "outputs": [],
   "source": [
    "# INPUTS:\n",
    "\n",
    "filepath = \"F:/Two-Photon/Psilocybin Project/Evoked Cohort Mice/compiled_dicts\"\n",
    "z_thresh = 4"
   ]
  },
  {
   "cell_type": "code",
   "execution_count": 4,
   "id": "5bbe8a1c",
   "metadata": {},
   "outputs": [],
   "source": [
    "# Dictionary to map filenames to variable names\n",
    "file_variable_mapping = {\n",
    "    'saline_pre_dict.pkl': 'saline_pre',\n",
    "    'saline_post_dict.pkl': 'saline_post',\n",
    "    'psilo_pre_dict.pkl': 'psilo_pre',\n",
    "    'psilo_post_dict.pkl': 'psilo_post'\n",
    "}\n",
    "\n",
    "# Initialize empty dictionaries\n",
    "saline_pre = {}\n",
    "saline_post = {}\n",
    "psilo_pre = {}\n",
    "psilo_post = {}\n",
    "\n",
    "# Iterate through files in megadict folder\n",
    "for filename in os.listdir(filepath):\n",
    "    if filename in file_variable_mapping:\n",
    "        file_path = os.path.join(filepath, filename)\n",
    "        with open(file_path, 'rb') as file:\n",
    "            # Load pkl file and assign to respective dictionary variable\n",
    "            globals()[file_variable_mapping[filename]] = pickle.load(file)"
   ]
  },
  {
   "cell_type": "code",
   "execution_count": null,
   "id": "9cba2aa3",
   "metadata": {},
   "outputs": [],
   "source": [
    "def get_sensitivity_all_cells(dict):\n",
    "    \n",
    "    sensitivity_all = []\n",
    "\n",
    "    sub_dict_keys = dict.keys()\n",
    "\n",
    "    for sub_dict in sub_dict_keys:\n",
    "        for cell in dict[sub_dict]:\n",
    "\n",
    "            if dict[sub_dict][cell]['active'] == True:\n",
    "                tuning_array = np.array(dict[sub_dict][cell]['peak_tuning'])\n",
    "                for i in range(len(tuning_array[0,:])):\n",
    "                    if any(y > z_thresh for y in tuning_array[0:,i]):\n",
    "                        sensitivity_all.append(float(i))\n",
    "                        break\n",
    "                    else:\n",
    "                        continue\n",
    "\n",
    "    return sensitivity_all"
   ]
  },
  {
   "cell_type": "code",
   "execution_count": null,
   "id": "5452a1e9",
   "metadata": {},
   "outputs": [],
   "source": [
    "def calculate_all_bandwidths(dict,No_sound_levels):\n",
    "\n",
    "    sub_dict_keys = dict.keys()\n",
    "    count = 0\n",
    "\n",
    "    for sub_dict in sub_dict_keys:\n",
    "        for cell in dict[sub_dict]:\n",
    "\n",
    "            if dict[sub_dict][cell]['active'] == True:\n",
    "                bandwidth_array = [0,0,0,0]\n",
    "                count += 1\n",
    "\n",
    "                for level in range(No_sound_levels):\n",
    "                    level_array = dict[sub_dict][cell]['peak_tuning'][:,level]\n",
    "                    if any(value >= z_thresh for value in level_array):\n",
    "                        bandwidth_array[level] = count_above_half_max(level_array)\n",
    "        \n",
    "                dict[sub_dict][cell]['bandwidth'] = bandwidth_array\n",
    "    print(\"The total number of cells in this cohort is\", count)"
   ]
  },
  {
   "cell_type": "code",
   "execution_count": 18,
   "id": "ff842acd",
   "metadata": {},
   "outputs": [
    {
     "name": "stdout",
     "output_type": "stream",
     "text": [
      "The total number of cells in this cohort is 1307\n",
      "The total number of cells in this cohort is 1222\n",
      "The total number of cells in this cohort is 1194\n",
      "The total number of cells in this cohort is 1214\n"
     ]
    }
   ],
   "source": [
    "def get_lowest_response_level(dict):\n",
    "\n",
    "    sub_dict_keys = dict.keys()\n",
    "    count = 0\n",
    "\n",
    "    for sub_dict in sub_dict_keys:\n",
    "        for cell in dict[sub_dict]:\n",
    "                  \n",
    "            if dict[sub_dict][cell]['active'] == True:\n",
    "                dict[sub_dict][cell]['lowest_response_level'] = 'NaN'\n",
    "                count += 1\n",
    "                tuning_array = np.array(dict[sub_dict][cell]['peak_tuning'])\n",
    "                for i in range(len(tuning_array[0,:])):\n",
    "                    if any(y > z_thresh for y in tuning_array[0:,i]):\n",
    "                        dict[sub_dict][cell]['lowest_response_level'] = float(i)\n",
    "                        break\n",
    "                    else:\n",
    "                        continue\n",
    "\n",
    "    print(\"The total number of cells in this cohort is\", count)\n",
    "\n",
    "get_lowest_response_level(saline_pre)\n",
    "get_lowest_response_level(saline_post)\n",
    "get_lowest_response_level(psilo_pre)\n",
    "get_lowest_response_level(psilo_post)                        "
   ]
  },
  {
   "cell_type": "code",
   "execution_count": 22,
   "id": "b4f88ac8",
   "metadata": {},
   "outputs": [
    {
     "ename": "KeyError",
     "evalue": "'lowest_response_level'",
     "output_type": "error",
     "traceback": [
      "\u001b[1;31m---------------------------------------------------------------------------\u001b[0m",
      "\u001b[1;31mKeyError\u001b[0m                                  Traceback (most recent call last)",
      "Cell \u001b[1;32mIn[22], line 1\u001b[0m\n\u001b[1;32m----> 1\u001b[0m \u001b[38;5;28mprint\u001b[39m(\u001b[43msaline_pre\u001b[49m\u001b[43m[\u001b[49m\u001b[38;5;124;43m'\u001b[39;49m\u001b[38;5;124;43msaline_1_186\u001b[39;49m\u001b[38;5;124;43m'\u001b[39;49m\u001b[43m]\u001b[49m\u001b[43m[\u001b[49m\u001b[38;5;241;43m1\u001b[39;49m\u001b[43m]\u001b[49m\u001b[43m[\u001b[49m\u001b[38;5;124;43m'\u001b[39;49m\u001b[38;5;124;43mlowest_response_level\u001b[39;49m\u001b[38;5;124;43m'\u001b[39;49m\u001b[43m]\u001b[49m)\n",
      "\u001b[1;31mKeyError\u001b[0m: 'lowest_response_level'"
     ]
    }
   ],
   "source": [
    "print(saline_pre['saline_1_186'][1]['lowest_response_level'])"
   ]
  },
  {
   "cell_type": "code",
   "execution_count": 26,
   "id": "aea708a9",
   "metadata": {},
   "outputs": [],
   "source": [
    "def dict_to_pd_lowest_response(dict,condition):\n",
    "    rows = []\n",
    "\n",
    "    for mouse_id, mouse_data in dict.items():\n",
    "\n",
    "        base_mouse_id = mouse_id[-3:]\n",
    "\n",
    "        for cell_id, cell_data in mouse_data.items():\n",
    "\n",
    "            if cell_data['active'] == True and cell_data['lowest_response_level'] != 'NaN':\n",
    "                unique_cell_id = f\"{mouse_id}_{condition}_{cell_id}\"\n",
    "                row = {\n",
    "                    'original_mouse_id': mouse_id,\n",
    "                    'mouse_id': base_mouse_id,\n",
    "                    'cell': cell_id,\n",
    "                    'condition': condition,\n",
    "                    'unique_cell_id': unique_cell_id,\n",
    "                    'lowest_response_level': cell_data['lowest_response_level']\n",
    "                }\n",
    "                rows.append(row)\n",
    "    df = pd.DataFrame(rows)\n",
    "\n",
    "    return df"
   ]
  },
  {
   "cell_type": "code",
   "execution_count": 38,
   "id": "a44ef57b",
   "metadata": {},
   "outputs": [],
   "source": [
    "saline_pre_data = dict_to_pd_lowest_response(saline_pre,'pre')\n",
    "saline_post_data = dict_to_pd_lowest_response(saline_post,'post')\n",
    "\n",
    "psilo_pre_data = dict_to_pd_lowest_response(psilo_pre,'pre')\n",
    "psilo_post_data = dict_to_pd_lowest_response(psilo_post,'post')"
   ]
  },
  {
   "cell_type": "code",
   "execution_count": 29,
   "id": "9890752c",
   "metadata": {},
   "outputs": [
    {
     "name": "stdout",
     "output_type": "stream",
     "text": [
      "[[2.69810954e+00 3.99913329e-01 1.44702227e+00 1.70011845e+00]\n",
      " [3.25591354e+00 2.99128000e-02 1.67351881e+00 1.87052281e+00]\n",
      " [7.37903433e+00 2.70683454e+00 3.39510292e-01 1.15753253e+01]\n",
      " [7.93329031e-01 3.43677963e-01 7.10526755e+00 4.64975654e+01]\n",
      " [5.03402164e-01 4.35884615e-01 7.02006449e+00 3.54537511e+01]\n",
      " [6.10302872e-01 1.40725125e+00 9.26528171e-01 2.37629279e+01]\n",
      " [6.47444638e-01 5.79846728e-01 2.10596949e+00 1.82616784e+01]\n",
      " [5.47079951e+00 2.53154500e+00 7.81115822e+00 6.59243231e+00]\n",
      " [4.18524841e-01 7.89957610e-01 2.76551706e+00 8.56417204e+00]\n",
      " [8.46151834e-01 5.49457547e-01 4.26309748e-01 4.56901879e+00]\n",
      " [3.73839507e-01 9.31240356e-01 2.56989832e+00 4.56399183e+00]\n",
      " [6.00669070e+00 3.38283772e+00 1.39007826e+00 4.66782500e+00]]\n"
     ]
    }
   ],
   "source": [
    "print(saline_pre['saline_1_186'][419]['peak_tuning'])"
   ]
  },
  {
   "cell_type": "code",
   "execution_count": 28,
   "id": "053b3ef2",
   "metadata": {},
   "outputs": [
    {
     "data": {
      "application/vnd.microsoft.datawrangler.viewer.v0+json": {
       "columns": [
        {
         "name": "index",
         "rawType": "int64",
         "type": "integer"
        },
        {
         "name": "original_mouse_id",
         "rawType": "object",
         "type": "string"
        },
        {
         "name": "mouse_id",
         "rawType": "object",
         "type": "string"
        },
        {
         "name": "cell",
         "rawType": "int64",
         "type": "integer"
        },
        {
         "name": "condition",
         "rawType": "object",
         "type": "string"
        },
        {
         "name": "unique_cell_id",
         "rawType": "object",
         "type": "string"
        },
        {
         "name": "lowest_response_level",
         "rawType": "float64",
         "type": "float"
        }
       ],
       "conversionMethod": "pd.DataFrame",
       "ref": "4da6dacf-d185-4f88-b4d5-64e835fa2aa6",
       "rows": [
        [
         "0",
         "saline_1_186",
         "186",
         "4",
         "pre",
         "saline_1_186_pre_4",
         "0.0"
        ],
        [
         "1",
         "saline_1_186",
         "186",
         "14",
         "pre",
         "saline_1_186_pre_14",
         "0.0"
        ],
        [
         "2",
         "saline_1_186",
         "186",
         "15",
         "pre",
         "saline_1_186_pre_15",
         "0.0"
        ],
        [
         "3",
         "saline_1_186",
         "186",
         "18",
         "pre",
         "saline_1_186_pre_18",
         "3.0"
        ],
        [
         "4",
         "saline_1_186",
         "186",
         "28",
         "pre",
         "saline_1_186_pre_28",
         "0.0"
        ],
        [
         "5",
         "saline_1_186",
         "186",
         "30",
         "pre",
         "saline_1_186_pre_30",
         "0.0"
        ],
        [
         "6",
         "saline_1_186",
         "186",
         "34",
         "pre",
         "saline_1_186_pre_34",
         "0.0"
        ],
        [
         "7",
         "saline_1_186",
         "186",
         "38",
         "pre",
         "saline_1_186_pre_38",
         "2.0"
        ],
        [
         "8",
         "saline_1_186",
         "186",
         "50",
         "pre",
         "saline_1_186_pre_50",
         "0.0"
        ],
        [
         "9",
         "saline_1_186",
         "186",
         "53",
         "pre",
         "saline_1_186_pre_53",
         "3.0"
        ],
        [
         "10",
         "saline_1_186",
         "186",
         "54",
         "pre",
         "saline_1_186_pre_54",
         "0.0"
        ],
        [
         "11",
         "saline_1_186",
         "186",
         "55",
         "pre",
         "saline_1_186_pre_55",
         "1.0"
        ],
        [
         "12",
         "saline_1_186",
         "186",
         "67",
         "pre",
         "saline_1_186_pre_67",
         "3.0"
        ],
        [
         "13",
         "saline_1_186",
         "186",
         "90",
         "pre",
         "saline_1_186_pre_90",
         "0.0"
        ],
        [
         "14",
         "saline_1_186",
         "186",
         "95",
         "pre",
         "saline_1_186_pre_95",
         "3.0"
        ],
        [
         "15",
         "saline_1_186",
         "186",
         "105",
         "pre",
         "saline_1_186_pre_105",
         "0.0"
        ],
        [
         "16",
         "saline_1_186",
         "186",
         "109",
         "pre",
         "saline_1_186_pre_109",
         "1.0"
        ],
        [
         "17",
         "saline_1_186",
         "186",
         "119",
         "pre",
         "saline_1_186_pre_119",
         "0.0"
        ],
        [
         "18",
         "saline_1_186",
         "186",
         "120",
         "pre",
         "saline_1_186_pre_120",
         "0.0"
        ],
        [
         "19",
         "saline_1_186",
         "186",
         "121",
         "pre",
         "saline_1_186_pre_121",
         "1.0"
        ],
        [
         "20",
         "saline_1_186",
         "186",
         "122",
         "pre",
         "saline_1_186_pre_122",
         "0.0"
        ],
        [
         "21",
         "saline_1_186",
         "186",
         "125",
         "pre",
         "saline_1_186_pre_125",
         "1.0"
        ],
        [
         "22",
         "saline_1_186",
         "186",
         "126",
         "pre",
         "saline_1_186_pre_126",
         "0.0"
        ],
        [
         "23",
         "saline_1_186",
         "186",
         "128",
         "pre",
         "saline_1_186_pre_128",
         "0.0"
        ],
        [
         "24",
         "saline_1_186",
         "186",
         "130",
         "pre",
         "saline_1_186_pre_130",
         "0.0"
        ],
        [
         "25",
         "saline_1_186",
         "186",
         "131",
         "pre",
         "saline_1_186_pre_131",
         "0.0"
        ],
        [
         "26",
         "saline_1_186",
         "186",
         "140",
         "pre",
         "saline_1_186_pre_140",
         "3.0"
        ],
        [
         "27",
         "saline_1_186",
         "186",
         "142",
         "pre",
         "saline_1_186_pre_142",
         "0.0"
        ],
        [
         "28",
         "saline_1_186",
         "186",
         "143",
         "pre",
         "saline_1_186_pre_143",
         "3.0"
        ],
        [
         "29",
         "saline_1_186",
         "186",
         "152",
         "pre",
         "saline_1_186_pre_152",
         "0.0"
        ],
        [
         "30",
         "saline_1_186",
         "186",
         "158",
         "pre",
         "saline_1_186_pre_158",
         "2.0"
        ],
        [
         "31",
         "saline_1_186",
         "186",
         "164",
         "pre",
         "saline_1_186_pre_164",
         "0.0"
        ],
        [
         "32",
         "saline_1_186",
         "186",
         "165",
         "pre",
         "saline_1_186_pre_165",
         "3.0"
        ],
        [
         "33",
         "saline_1_186",
         "186",
         "170",
         "pre",
         "saline_1_186_pre_170",
         "0.0"
        ],
        [
         "34",
         "saline_1_186",
         "186",
         "172",
         "pre",
         "saline_1_186_pre_172",
         "2.0"
        ],
        [
         "35",
         "saline_1_186",
         "186",
         "173",
         "pre",
         "saline_1_186_pre_173",
         "3.0"
        ],
        [
         "36",
         "saline_1_186",
         "186",
         "175",
         "pre",
         "saline_1_186_pre_175",
         "1.0"
        ],
        [
         "37",
         "saline_1_186",
         "186",
         "177",
         "pre",
         "saline_1_186_pre_177",
         "1.0"
        ],
        [
         "38",
         "saline_1_186",
         "186",
         "179",
         "pre",
         "saline_1_186_pre_179",
         "3.0"
        ],
        [
         "39",
         "saline_1_186",
         "186",
         "190",
         "pre",
         "saline_1_186_pre_190",
         "1.0"
        ],
        [
         "40",
         "saline_1_186",
         "186",
         "197",
         "pre",
         "saline_1_186_pre_197",
         "0.0"
        ],
        [
         "41",
         "saline_1_186",
         "186",
         "213",
         "pre",
         "saline_1_186_pre_213",
         "0.0"
        ],
        [
         "42",
         "saline_1_186",
         "186",
         "217",
         "pre",
         "saline_1_186_pre_217",
         "3.0"
        ],
        [
         "43",
         "saline_1_186",
         "186",
         "229",
         "pre",
         "saline_1_186_pre_229",
         "2.0"
        ],
        [
         "44",
         "saline_1_186",
         "186",
         "244",
         "pre",
         "saline_1_186_pre_244",
         "0.0"
        ],
        [
         "45",
         "saline_1_186",
         "186",
         "252",
         "pre",
         "saline_1_186_pre_252",
         "0.0"
        ],
        [
         "46",
         "saline_1_186",
         "186",
         "261",
         "pre",
         "saline_1_186_pre_261",
         "0.0"
        ],
        [
         "47",
         "saline_1_186",
         "186",
         "263",
         "pre",
         "saline_1_186_pre_263",
         "0.0"
        ],
        [
         "48",
         "saline_1_186",
         "186",
         "266",
         "pre",
         "saline_1_186_pre_266",
         "0.0"
        ],
        [
         "49",
         "saline_1_186",
         "186",
         "273",
         "pre",
         "saline_1_186_pre_273",
         "0.0"
        ]
       ],
       "shape": {
        "columns": 6,
        "rows": 903
       }
      },
      "text/html": [
       "<div>\n",
       "<style scoped>\n",
       "    .dataframe tbody tr th:only-of-type {\n",
       "        vertical-align: middle;\n",
       "    }\n",
       "\n",
       "    .dataframe tbody tr th {\n",
       "        vertical-align: top;\n",
       "    }\n",
       "\n",
       "    .dataframe thead th {\n",
       "        text-align: right;\n",
       "    }\n",
       "</style>\n",
       "<table border=\"1\" class=\"dataframe\">\n",
       "  <thead>\n",
       "    <tr style=\"text-align: right;\">\n",
       "      <th></th>\n",
       "      <th>original_mouse_id</th>\n",
       "      <th>mouse_id</th>\n",
       "      <th>cell</th>\n",
       "      <th>condition</th>\n",
       "      <th>unique_cell_id</th>\n",
       "      <th>lowest_response_level</th>\n",
       "    </tr>\n",
       "  </thead>\n",
       "  <tbody>\n",
       "    <tr>\n",
       "      <th>0</th>\n",
       "      <td>saline_1_186</td>\n",
       "      <td>186</td>\n",
       "      <td>4</td>\n",
       "      <td>pre</td>\n",
       "      <td>saline_1_186_pre_4</td>\n",
       "      <td>0.0</td>\n",
       "    </tr>\n",
       "    <tr>\n",
       "      <th>1</th>\n",
       "      <td>saline_1_186</td>\n",
       "      <td>186</td>\n",
       "      <td>14</td>\n",
       "      <td>pre</td>\n",
       "      <td>saline_1_186_pre_14</td>\n",
       "      <td>0.0</td>\n",
       "    </tr>\n",
       "    <tr>\n",
       "      <th>2</th>\n",
       "      <td>saline_1_186</td>\n",
       "      <td>186</td>\n",
       "      <td>15</td>\n",
       "      <td>pre</td>\n",
       "      <td>saline_1_186_pre_15</td>\n",
       "      <td>0.0</td>\n",
       "    </tr>\n",
       "    <tr>\n",
       "      <th>3</th>\n",
       "      <td>saline_1_186</td>\n",
       "      <td>186</td>\n",
       "      <td>18</td>\n",
       "      <td>pre</td>\n",
       "      <td>saline_1_186_pre_18</td>\n",
       "      <td>3.0</td>\n",
       "    </tr>\n",
       "    <tr>\n",
       "      <th>4</th>\n",
       "      <td>saline_1_186</td>\n",
       "      <td>186</td>\n",
       "      <td>28</td>\n",
       "      <td>pre</td>\n",
       "      <td>saline_1_186_pre_28</td>\n",
       "      <td>0.0</td>\n",
       "    </tr>\n",
       "    <tr>\n",
       "      <th>...</th>\n",
       "      <td>...</td>\n",
       "      <td>...</td>\n",
       "      <td>...</td>\n",
       "      <td>...</td>\n",
       "      <td>...</td>\n",
       "      <td>...</td>\n",
       "    </tr>\n",
       "    <tr>\n",
       "      <th>898</th>\n",
       "      <td>saline_1_474</td>\n",
       "      <td>474</td>\n",
       "      <td>1100</td>\n",
       "      <td>pre</td>\n",
       "      <td>saline_1_474_pre_1100</td>\n",
       "      <td>2.0</td>\n",
       "    </tr>\n",
       "    <tr>\n",
       "      <th>899</th>\n",
       "      <td>saline_1_474</td>\n",
       "      <td>474</td>\n",
       "      <td>1148</td>\n",
       "      <td>pre</td>\n",
       "      <td>saline_1_474_pre_1148</td>\n",
       "      <td>2.0</td>\n",
       "    </tr>\n",
       "    <tr>\n",
       "      <th>900</th>\n",
       "      <td>saline_1_474</td>\n",
       "      <td>474</td>\n",
       "      <td>1199</td>\n",
       "      <td>pre</td>\n",
       "      <td>saline_1_474_pre_1199</td>\n",
       "      <td>0.0</td>\n",
       "    </tr>\n",
       "    <tr>\n",
       "      <th>901</th>\n",
       "      <td>saline_1_474</td>\n",
       "      <td>474</td>\n",
       "      <td>1217</td>\n",
       "      <td>pre</td>\n",
       "      <td>saline_1_474_pre_1217</td>\n",
       "      <td>1.0</td>\n",
       "    </tr>\n",
       "    <tr>\n",
       "      <th>902</th>\n",
       "      <td>saline_1_474</td>\n",
       "      <td>474</td>\n",
       "      <td>1666</td>\n",
       "      <td>pre</td>\n",
       "      <td>saline_1_474_pre_1666</td>\n",
       "      <td>1.0</td>\n",
       "    </tr>\n",
       "  </tbody>\n",
       "</table>\n",
       "<p>903 rows × 6 columns</p>\n",
       "</div>"
      ],
      "text/plain": [
       "    original_mouse_id mouse_id  cell condition         unique_cell_id  \\\n",
       "0        saline_1_186      186     4       pre     saline_1_186_pre_4   \n",
       "1        saline_1_186      186    14       pre    saline_1_186_pre_14   \n",
       "2        saline_1_186      186    15       pre    saline_1_186_pre_15   \n",
       "3        saline_1_186      186    18       pre    saline_1_186_pre_18   \n",
       "4        saline_1_186      186    28       pre    saline_1_186_pre_28   \n",
       "..                ...      ...   ...       ...                    ...   \n",
       "898      saline_1_474      474  1100       pre  saline_1_474_pre_1100   \n",
       "899      saline_1_474      474  1148       pre  saline_1_474_pre_1148   \n",
       "900      saline_1_474      474  1199       pre  saline_1_474_pre_1199   \n",
       "901      saline_1_474      474  1217       pre  saline_1_474_pre_1217   \n",
       "902      saline_1_474      474  1666       pre  saline_1_474_pre_1666   \n",
       "\n",
       "     lowest_response_level  \n",
       "0                      0.0  \n",
       "1                      0.0  \n",
       "2                      0.0  \n",
       "3                      3.0  \n",
       "4                      0.0  \n",
       "..                     ...  \n",
       "898                    2.0  \n",
       "899                    2.0  \n",
       "900                    0.0  \n",
       "901                    1.0  \n",
       "902                    1.0  \n",
       "\n",
       "[903 rows x 6 columns]"
      ]
     },
     "execution_count": 28,
     "metadata": {},
     "output_type": "execute_result"
    }
   ],
   "source": [
    "saline_pre_data"
   ]
  },
  {
   "cell_type": "code",
   "execution_count": 36,
   "id": "3a2484ec",
   "metadata": {},
   "outputs": [
    {
     "name": "stdout",
     "output_type": "stream",
     "text": [
      "saline Data Results\n",
      "               Mixed Linear Model Regression Results\n",
      "===================================================================\n",
      "Model:            MixedLM Dependent Variable: lowest_response_level\n",
      "No. Observations: 1685    Method:             REML                 \n",
      "No. Groups:       16      Scale:              1.1114               \n",
      "Min. group size:  30      Log-Likelihood:     -2500.6169           \n",
      "Max. group size:  179     Converged:          Yes                  \n",
      "Mean group size:  105.3                                            \n",
      "--------------------------------------------------------------------\n",
      "                     Coef.   Std.Err.    z     P>|z|  [0.025  0.975]\n",
      "--------------------------------------------------------------------\n",
      "Intercept             1.236     0.131   9.462  0.000   0.980   1.492\n",
      "condition[T.pre]     -0.056     0.184  -0.308  0.758  -0.416   0.303\n",
      "Group Var             0.122     0.048                               \n",
      "===================================================================\n",
      "\n"
     ]
    },
    {
     "name": "stderr",
     "output_type": "stream",
     "text": [
      "C:\\Users\\Conor\\AppData\\Local\\Packages\\PythonSoftwareFoundation.Python.3.9_qbz5n2kfra8p0\\LocalCache\\local-packages\\Python39\\site-packages\\statsmodels\\iolib\\summary2.py:579: FutureWarning: DataFrame.applymap has been deprecated. Use DataFrame.map instead.\n",
      "  dat = dat.applymap(lambda x: _formatter(x, float_format))\n"
     ]
    }
   ],
   "source": [
    "saline_data  = pd.concat([saline_pre_data,saline_post_data],ignore_index=True)\n",
    "\n",
    "# Create separate dataframes for each bandwidth level\n",
    "results = {}\n",
    "print(\"saline Data Results\")\n",
    "    # Filter data for this bandwidth level\n",
    "level_data = saline_data[['original_mouse_id', 'unique_cell_id', 'condition', 'lowest_response_level']]\n",
    "    \n",
    "    # Fit model for this bandwidth level\n",
    "model = smf.mixedlm(\n",
    "    \"lowest_response_level ~ condition\", \n",
    "    saline_data, \n",
    "    groups=saline_data[\"original_mouse_id\"]\n",
    "    )\n",
    "    \n",
    "results = model.fit()\n",
    "print(results.summary())"
   ]
  },
  {
   "cell_type": "code",
   "execution_count": 37,
   "id": "9bad98ea",
   "metadata": {},
   "outputs": [
    {
     "name": "stdout",
     "output_type": "stream",
     "text": [
      "Saline Data Results\n",
      "               Mixed Linear Model Regression Results\n",
      "===================================================================\n",
      "Model:            MixedLM Dependent Variable: lowest_response_level\n",
      "No. Observations: 1685    Method:             REML                 \n",
      "No. Groups:       16      Scale:              1.1114               \n",
      "Min. group size:  30      Log-Likelihood:     -2500.6169           \n",
      "Max. group size:  179     Converged:          Yes                  \n",
      "Mean group size:  105.3                                            \n",
      "--------------------------------------------------------------------\n",
      "                     Coef.   Std.Err.    z     P>|z|  [0.025  0.975]\n",
      "--------------------------------------------------------------------\n",
      "Intercept             1.236     0.131   9.462  0.000   0.980   1.492\n",
      "condition[T.pre]     -0.056     0.184  -0.308  0.758  -0.416   0.303\n",
      "Group Var             0.122     0.048                               \n",
      "===================================================================\n",
      "\n"
     ]
    },
    {
     "name": "stderr",
     "output_type": "stream",
     "text": [
      "C:\\Users\\Conor\\AppData\\Local\\Packages\\PythonSoftwareFoundation.Python.3.9_qbz5n2kfra8p0\\LocalCache\\local-packages\\Python39\\site-packages\\statsmodels\\iolib\\summary2.py:579: FutureWarning: DataFrame.applymap has been deprecated. Use DataFrame.map instead.\n",
      "  dat = dat.applymap(lambda x: _formatter(x, float_format))\n"
     ]
    }
   ],
   "source": [
    "import pandas as pd\n",
    "import statsmodels.formula.api as smf\n",
    "\n",
    "# Combine pre- and post- saline data\n",
    "saline_data = pd.concat([saline_pre_data, saline_post_data], ignore_index=True)\n",
    "\n",
    "# Fit a linear mixed-effects model\n",
    "print(\"Saline Data Results\")\n",
    "\n",
    "model = smf.mixedlm(\n",
    "    \"lowest_response_level ~ condition\", \n",
    "    saline_data, \n",
    "    groups=saline_data[\"original_mouse_id\"]\n",
    ")\n",
    "\n",
    "results = model.fit()\n",
    "print(results.summary())"
   ]
  },
  {
   "cell_type": "code",
   "execution_count": 40,
   "id": "95a9c3bc",
   "metadata": {},
   "outputs": [
    {
     "name": "stdout",
     "output_type": "stream",
     "text": [
      "Saline Data Results\n",
      "               Mixed Linear Model Regression Results\n",
      "===================================================================\n",
      "Model:            MixedLM Dependent Variable: lowest_response_level\n",
      "No. Observations: 1466    Method:             REML                 \n",
      "No. Groups:       16      Scale:              1.1076               \n",
      "Min. group size:  27      Log-Likelihood:     -2173.7476           \n",
      "Max. group size:  150     Converged:          Yes                  \n",
      "Mean group size:  91.6                                             \n",
      "---------------------------------------------------------------------\n",
      "                   Coef.   Std.Err.     z     P>|z|   [0.025   0.975]\n",
      "---------------------------------------------------------------------\n",
      "Intercept          1.024      0.124   8.260   0.000    0.781    1.266\n",
      "condition[T.pre]   0.040      0.175   0.228   0.820   -0.302    0.382\n",
      "Group Var          0.106      0.043                                  \n",
      "===================================================================\n",
      "\n"
     ]
    },
    {
     "name": "stderr",
     "output_type": "stream",
     "text": [
      "C:\\Users\\Conor\\AppData\\Local\\Packages\\PythonSoftwareFoundation.Python.3.9_qbz5n2kfra8p0\\LocalCache\\local-packages\\Python39\\site-packages\\statsmodels\\iolib\\summary2.py:579: FutureWarning: DataFrame.applymap has been deprecated. Use DataFrame.map instead.\n",
      "  dat = dat.applymap(lambda x: _formatter(x, float_format))\n"
     ]
    }
   ],
   "source": [
    "import pandas as pd\n",
    "import statsmodels.formula.api as smf\n",
    "\n",
    "# Combine pre- and post- saline data\n",
    "psilo_data = pd.concat([psilo_pre_data, psilo_post_data], ignore_index=True)\n",
    "\n",
    "# Fit a linear mixed-effects model\n",
    "print(\"Saline Data Results\")\n",
    "\n",
    "model = smf.mixedlm(\n",
    "    \"lowest_response_level ~ condition\", \n",
    "    psilo_data, \n",
    "    groups=psilo_data[\"original_mouse_id\"]\n",
    ")\n",
    "\n",
    "results = model.fit()\n",
    "print(results.summary())"
   ]
  },
  {
   "cell_type": "code",
   "execution_count": 41,
   "id": "01428fdb",
   "metadata": {},
   "outputs": [
    {
     "name": "stderr",
     "output_type": "stream",
     "text": [
      "C:\\Users\\Conor\\AppData\\Local\\Temp\\ipykernel_19008\\1047157310.py:4: SettingWithCopyWarning: \n",
      "A value is trying to be set on a copy of a slice from a DataFrame.\n",
      "Try using .loc[row_indexer,col_indexer] = value instead\n",
      "\n",
      "See the caveats in the documentation: https://pandas.pydata.org/pandas-docs/stable/user_guide/indexing.html#returning-a-view-versus-a-copy\n",
      "  pre_saline['treatment'] = 'saline'\n",
      "C:\\Users\\Conor\\AppData\\Local\\Temp\\ipykernel_19008\\1047157310.py:6: SettingWithCopyWarning: \n",
      "A value is trying to be set on a copy of a slice from a DataFrame.\n",
      "Try using .loc[row_indexer,col_indexer] = value instead\n",
      "\n",
      "See the caveats in the documentation: https://pandas.pydata.org/pandas-docs/stable/user_guide/indexing.html#returning-a-view-versus-a-copy\n",
      "  pre_psilo['treatment'] = 'psilocybin'\n"
     ]
    }
   ],
   "source": [
    "#Correctly define the groups, i.e. saline post and psilo post\n",
    "\n",
    "pre_saline = saline_data[saline_data['condition'] == 'pre']\n",
    "pre_saline['treatment'] = 'saline'\n",
    "pre_psilo = psilo_data[psilo_data['condition'] == 'pre']\n",
    "pre_psilo['treatment'] = 'psilocybin'\n",
    "\n",
    "pre_all = pd.concat([pre_saline,pre_psilo],ignore_index=True)"
   ]
  },
  {
   "cell_type": "code",
   "execution_count": null,
   "id": "2ea6b976",
   "metadata": {},
   "outputs": [
    {
     "name": "stderr",
     "output_type": "stream",
     "text": [
      "C:\\Users\\Conor\\AppData\\Local\\Temp\\ipykernel_19008\\476657197.py:4: SettingWithCopyWarning: \n",
      "A value is trying to be set on a copy of a slice from a DataFrame.\n",
      "Try using .loc[row_indexer,col_indexer] = value instead\n",
      "\n",
      "See the caveats in the documentation: https://pandas.pydata.org/pandas-docs/stable/user_guide/indexing.html#returning-a-view-versus-a-copy\n",
      "  post_saline['treatment'] = 'saline'\n",
      "C:\\Users\\Conor\\AppData\\Local\\Temp\\ipykernel_19008\\476657197.py:6: SettingWithCopyWarning: \n",
      "A value is trying to be set on a copy of a slice from a DataFrame.\n",
      "Try using .loc[row_indexer,col_indexer] = value instead\n",
      "\n",
      "See the caveats in the documentation: https://pandas.pydata.org/pandas-docs/stable/user_guide/indexing.html#returning-a-view-versus-a-copy\n",
      "  post_psilo['treatment'] = 'psilocybin'\n"
     ]
    }
   ],
   "source": [
    "#Correctly define the groups, i.e. saline post and psilo post\n",
    "\n",
    "post_saline = saline_data[saline_data['condition'] == 'post']\n",
    "post_saline['treatment'] = 'saline'\n",
    "post_psilo = psilo_data[psilo_data['condition'] == 'post']\n",
    "post_psilo['treatment'] = 'psilocybin'\n",
    "\n",
    "post_all = pd.concat([post_saline,post_psilo],ignore_index=True)"
   ]
  },
  {
   "cell_type": "code",
   "execution_count": null,
   "id": "9d2a927a",
   "metadata": {},
   "outputs": [],
   "source": [
    "post_all"
   ]
  },
  {
   "cell_type": "code",
   "execution_count": 78,
   "id": "ab5e3d66",
   "metadata": {},
   "outputs": [
    {
     "name": "stdout",
     "output_type": "stream",
     "text": [
      "Saline Data Results\n",
      "               Mixed Linear Model Regression Results\n",
      "===================================================================\n",
      "Model:            MixedLM Dependent Variable: lowest_response_level\n",
      "No. Observations: 1644    Method:             REML                 \n",
      "No. Groups:       16      Scale:              1.0979               \n",
      "Min. group size:  27      Log-Likelihood:     -2431.3234           \n",
      "Max. group size:  179     Converged:          Yes                  \n",
      "Mean group size:  102.8                                            \n",
      "--------------------------------------------------------------------\n",
      "                       Coef.  Std.Err.    z    P>|z|  [0.025  0.975]\n",
      "--------------------------------------------------------------------\n",
      "Intercept              1.060     0.142  7.475  0.000   0.782   1.338\n",
      "treatment[T.saline]    0.118     0.199  0.594  0.553  -0.272   0.509\n",
      "Group Var              0.146     0.057                              \n",
      "===================================================================\n",
      "\n"
     ]
    },
    {
     "name": "stderr",
     "output_type": "stream",
     "text": [
      "C:\\Users\\Conor\\AppData\\Local\\Packages\\PythonSoftwareFoundation.Python.3.9_qbz5n2kfra8p0\\LocalCache\\local-packages\\Python39\\site-packages\\statsmodels\\iolib\\summary2.py:579: FutureWarning: DataFrame.applymap has been deprecated. Use DataFrame.map instead.\n",
      "  dat = dat.applymap(lambda x: _formatter(x, float_format))\n"
     ]
    }
   ],
   "source": [
    "# Fit a linear mixed-effects model\n",
    "print(\"Saline Data Results\")\n",
    "\n",
    "model = smf.mixedlm(\n",
    "    \"lowest_response_level ~ treatment\", \n",
    "    pre_all, \n",
    "    groups=pre_all[\"original_mouse_id\"]\n",
    ")\n",
    "\n",
    "results = model.fit()\n",
    "print(results.summary())"
   ]
  },
  {
   "cell_type": "code",
   "execution_count": 79,
   "id": "838dfd69",
   "metadata": {},
   "outputs": [
    {
     "name": "stdout",
     "output_type": "stream",
     "text": [
      "Saline Data Results\n",
      "               Mixed Linear Model Regression Results\n",
      "===================================================================\n",
      "Model:            MixedLM Dependent Variable: lowest_response_level\n",
      "No. Observations: 1507    Method:             REML                 \n",
      "No. Groups:       16      Scale:              1.1225               \n",
      "Min. group size:  28      Log-Likelihood:     -2242.5067           \n",
      "Max. group size:  179     Converged:          Yes                  \n",
      "Mean group size:  94.2                                             \n",
      "--------------------------------------------------------------------\n",
      "                       Coef.  Std.Err.    z    P>|z|  [0.025  0.975]\n",
      "--------------------------------------------------------------------\n",
      "Intercept              1.026     0.111  9.276  0.000   0.809   1.243\n",
      "treatment[T.saline]    0.211     0.156  1.360  0.174  -0.093   0.516\n",
      "Group Var              0.081     0.034                              \n",
      "===================================================================\n",
      "\n"
     ]
    },
    {
     "name": "stderr",
     "output_type": "stream",
     "text": [
      "C:\\Users\\Conor\\AppData\\Local\\Packages\\PythonSoftwareFoundation.Python.3.9_qbz5n2kfra8p0\\LocalCache\\local-packages\\Python39\\site-packages\\statsmodels\\iolib\\summary2.py:579: FutureWarning: DataFrame.applymap has been deprecated. Use DataFrame.map instead.\n",
      "  dat = dat.applymap(lambda x: _formatter(x, float_format))\n"
     ]
    }
   ],
   "source": [
    "# Fit a linear mixed-effects model\n",
    "print(\"Saline Data Results\")\n",
    "\n",
    "model = smf.mixedlm(\n",
    "    \"lowest_response_level ~ treatment\", \n",
    "    post_all, \n",
    "    groups=post_all[\"original_mouse_id\"]\n",
    ")\n",
    "\n",
    "results = model.fit()\n",
    "print(results.summary())"
   ]
  },
  {
   "cell_type": "code",
   "execution_count": 64,
   "id": "a7b1f13d",
   "metadata": {},
   "outputs": [],
   "source": [
    "post_all = post_all.drop(['response_bin'], axis=1)"
   ]
  },
  {
   "cell_type": "code",
   "execution_count": 69,
   "id": "5c256297",
   "metadata": {},
   "outputs": [
    {
     "data": {
      "image/png": "[encoded data removed]",
      "text/plain": [
       "<Figure size 800x600 with 1 Axes>"
      ]
     },
     "metadata": {},
     "output_type": "display_data"
    }
   ],
   "source": [
    "import numpy as np\n",
    "import pandas as pd\n",
    "import matplotlib.pyplot as plt\n",
    "from scipy.stats import sem\n",
    "df = pre_all\n",
    "# Count how many cells per mouse, treatment, lowest_response_level\n",
    "counts = df.groupby(['original_mouse_id', 'treatment', 'lowest_response_level']).size().rename('count').reset_index()\n",
    "\n",
    "# Merge total cells to compute proportion\n",
    "total_cells = df.groupby(['original_mouse_id', 'treatment']).size().rename('total_cells')\n",
    "counts = counts.merge(total_cells.reset_index(), on=['original_mouse_id', 'treatment'])\n",
    "counts['proportion'] = counts['count'] / counts['total_cells']\n",
    "\n",
    "# Aggregate across mice: mean and SEM proportion per treatment and lowest_response_level\n",
    "summary = counts.groupby(['treatment', 'lowest_response_level'])['proportion'].agg(['mean', sem]).reset_index()\n",
    "\n",
    "# Plot\n",
    "plt.figure(figsize=(8,6))\n",
    "\n",
    "for treatment, group in summary.groupby('treatment'):\n",
    "    plt.errorbar(\n",
    "        group['lowest_response_level'],\n",
    "        group['mean'],\n",
    "        yerr=group['sem'],\n",
    "        label=treatment,\n",
    "        marker='o',\n",
    "        capsize=5,\n",
    "        linestyle='-'\n",
    "    )\n",
    "\n",
    "plt.xlabel('Lowest Response Level')\n",
    "plt.ylabel('Proportion of Cells')\n",
    "plt.title('Proportion of Cells by Lowest Response Level and Treatment')\n",
    "plt.xticks([0,1,2,3])\n",
    "plt.legend(title='Treatment')\n",
    "plt.tight_layout()\n",
    "plt.show()"
   ]
  },
  {
   "cell_type": "code",
   "execution_count": 70,
   "id": "e6aec9e8",
   "metadata": {},
   "outputs": [
    {
     "data": {
      "image/png": "[encoded data removed]",
      "text/plain": [
       "<Figure size 800x600 with 1 Axes>"
      ]
     },
     "metadata": {},
     "output_type": "display_data"
    }
   ],
   "source": [
    "import numpy as np\n",
    "import pandas as pd\n",
    "import matplotlib.pyplot as plt\n",
    "from scipy.stats import sem\n",
    "df = post_all\n",
    "# Count how many cells per mouse, treatment, lowest_response_level\n",
    "counts = df.groupby(['original_mouse_id', 'treatment', 'lowest_response_level']).size().rename('count').reset_index()\n",
    "\n",
    "# Merge total cells to compute proportion\n",
    "total_cells = df.groupby(['original_mouse_id', 'treatment']).size().rename('total_cells')\n",
    "counts = counts.merge(total_cells.reset_index(), on=['original_mouse_id', 'treatment'])\n",
    "counts['proportion'] = counts['count'] / counts['total_cells']\n",
    "\n",
    "# Aggregate across mice: mean and SEM proportion per treatment and lowest_response_level\n",
    "summary = counts.groupby(['treatment', 'lowest_response_level'])['proportion'].agg(['mean', sem]).reset_index()\n",
    "\n",
    "# Plot\n",
    "plt.figure(figsize=(8,6))\n",
    "\n",
    "for treatment, group in summary.groupby('treatment'):\n",
    "    plt.errorbar(\n",
    "        group['lowest_response_level'],\n",
    "        group['mean'],\n",
    "        yerr=group['sem'],\n",
    "        label=treatment,\n",
    "        marker='o',\n",
    "        capsize=5,\n",
    "        linestyle='-'\n",
    "    )\n",
    "\n",
    "plt.xlabel('Lowest Response Level')\n",
    "plt.ylabel('Proportion of Cells')\n",
    "plt.title('Proportion of Cells by Lowest Response Level and Treatment')\n",
    "plt.xticks([0,1,2,3])\n",
    "plt.legend(title='Treatment')\n",
    "plt.tight_layout()\n",
    "plt.show()"
   ]
  },
  {
   "cell_type": "code",
   "execution_count": 76,
   "id": "a48a7f34",
   "metadata": {},
   "outputs": [
    {
     "data": {
      "image/png": "[encoded data removed]",
      "text/plain": [
       "<Figure size 1400x600 with 2 Axes>"
      ]
     },
     "metadata": {},
     "output_type": "display_data"
    }
   ],
   "source": [
    "import matplotlib.pyplot as plt\n",
    "\n",
    "def plot_cdf_raw_lines(ax, counts_df, title):\n",
    "    levels = sorted(counts_df['lowest_response_level'].unique())\n",
    "\n",
    "    total_cells = counts_df.groupby(['original_mouse_id', 'treatment']).size().rename('total_cells').reset_index()\n",
    "    counts = counts_df.groupby(['original_mouse_id', 'treatment', 'lowest_response_level']).size().rename('count').reset_index()\n",
    "    counts = counts.merge(total_cells, on=['original_mouse_id', 'treatment'])\n",
    "    counts['proportion'] = counts['count'] / counts['total_cells']\n",
    "\n",
    "    counts = counts.sort_values(['original_mouse_id', 'treatment', 'lowest_response_level'])\n",
    "    counts['cdf'] = counts.groupby(['original_mouse_id', 'treatment'])['proportion'].cumsum()\n",
    "\n",
    "    summary = counts.groupby(['treatment', 'lowest_response_level'])['cdf'].mean().reset_index()\n",
    "\n",
    "    for treatment, group in summary.groupby('treatment'):\n",
    "        ax.plot(group['lowest_response_level'], group['cdf'], label=treatment, marker='o')\n",
    "\n",
    "    ax.set_xlabel('Lowest Response Level')\n",
    "    ax.set_ylabel('Cumulative Proportion (CDF)')\n",
    "    ax.set_title(title)\n",
    "    ax.set_xticks(levels)\n",
    "    ax.set_ylim(0.2, 1)\n",
    "    ax.legend(title='Treatment')\n",
    "\n",
    "fig, axs = plt.subplots(1, 2, figsize=(14, 6), sharey=True)\n",
    "\n",
    "plot_cdf_raw_lines(axs[0], pre_all, 'Pre Treatment')\n",
    "plot_cdf_raw_lines(axs[1], post_all, 'Post Treatment')\n",
    "\n",
    "plt.tight_layout()\n",
    "plt.show()"
   ]
  }
 ],
 "metadata": {
  "kernelspec": {
   "display_name": "Python 3",
   "language": "python",
   "name": "python3"
  },
  "language_info": {
   "codemirror_mode": {
    "name": "ipython",
    "version": 3
   },
   "file_extension": ".py",
   "mimetype": "text/x-python",
   "name": "python",
   "nbconvert_exporter": "python",
   "pygments_lexer": "ipython3",
   "version": "3.9.13"
  }
 },
 "nbformat": 4,
 "nbformat_minor": 5
}
