{
 "cells": [
  {
   "cell_type": "code",
   "execution_count": null,
   "metadata": {},
   "outputs": [],
   "source": [
    "'''\n",
    "Author:  Conor Lane, March 2024\n",
    "Contact: conor.lane1995@gmail.com\n",
    "\n",
    "PURPOSE:  Collate all of the individual recording files into four dictionaries (pre-saline, post_saline, pre-psilo, post-psilo) for easy analysis.\n",
    "\n",
    "INPUTS:  The filepaths of the individual recordings for saline and psilo days - update as more animals are added. \n",
    "         Remember to also update the all_dicts and all_dicts_str with the names so that they can be correctly stored.\n",
    "\n",
    "         The BASE_BATH with the filepath to the folder that will store dicts. \n",
    "'''"
   ]
  },
  {
   "cell_type": "code",
   "execution_count": 1,
   "metadata": {},
   "outputs": [],
   "source": [
    "import numpy as np\n",
    "import pickle\n",
    "\n",
    "BASE_PATH = \"F:/Two-Photon/Psilocybin Project/Evoked Cohort Mice/megadicts/\""
   ]
  },
  {
   "cell_type": "code",
   "execution_count": 2,
   "metadata": {},
   "outputs": [],
   "source": [
    "# LOAD REQUIRED FILES SALINE DAY\n",
    "\n",
    "# saline_1_184 = \"C:/Users/Conor/Documents/Imaging_Data/Two-Photon/Psilocybin_Project/Evoked_Cohort_Mice/ID184/11282022_GCaMP6s_ID184_saline/TSeries-11282022-0011-023/suite2p/plane0/cells.pkl\"\n",
    "# saline_2_184 = \"C:/Users/Conor/Documents/Imaging_Data/Two-Photon/Psilocybin_Project/Evoked_Cohort_Mice/ID184/11282022_GCaMP6s_ID184_saline/TSeries-11282022-0011-025/suite2p/plane0/cells.pkl\"\n",
    "\n",
    "saline_1_186 = \"F:/Two-Photon/Psilocybin Project/Evoked Cohort Mice/ID186/11242022_GCaMP6s_ID186_saline/TSeries-11222022-1228-021/suite2p/plane0/cells.pkl\"\n",
    "saline_2_186 = \"F:/Two-Photon/Psilocybin Project/Evoked Cohort Mice/ID186/11242022_GCaMP6s_ID186_saline/TSeries-11222022-1228-022/suite2p/plane0/cells.pkl\"\n",
    "\n",
    "saline_1_237 = \"F:/Two-Photon/Psilocybin Project/Evoked Cohort Mice/ID237/12082022_GCaMP6s_ID237_saline/TSeries-12082022-1143-031/suite2p/plane0/cells.pkl\"\n",
    "saline_2_237 = \"F:/Two-Photon/Psilocybin Project/Evoked Cohort Mice/ID237/12082022_GCaMP6s_ID237_saline/TSeries-12082022-1143-032/suite2p/plane0/cells.pkl\"\n",
    "\n",
    "saline_1_239 = \"F:/Two-Photon/Psilocybin Project/Evoked Cohort Mice/ID239/01132023_ID239_saline/TSeries-01122023-1243-038/suite2p/plane0/cells.pkl\"\n",
    "saline_2_239 = \"F:/Two-Photon/Psilocybin Project/Evoked Cohort Mice/ID239/01132023_ID239_saline/TSeries-01122023-1243-039/suite2p/plane0/cells.pkl\"\n",
    "\n",
    "saline_1_251 = \"F:/Two-Photon/Psilocybin Project/Evoked Cohort Mice/ID251/ID251_13012023_saline/TSeries-01122023-1243-040/suite2p/plane0/cells.pkl\"\n",
    "saline_2_251 = \"F:/Two-Photon/Psilocybin Project/Evoked Cohort Mice/ID251/ID251_13012023_saline/TSeries-01122023-1243-041/suite2p/plane0/cells.pkl\"\n",
    "\n",
    "saline_1_269 = \"F:/Two-Photon/Psilocybin Project/Evoked Cohort Mice/ID269/ID269_06032023_saline/TSeries-03062023-1216-061/suite2p/plane0/cells.pkl\"\n",
    "saline_2_269 = \"F:/Two-Photon/Psilocybin Project/Evoked Cohort Mice/ID269/ID269_06032023_saline/TSeries-03062023-1216-062/suite2p/plane0/cells.pkl\"\n",
    "\n",
    "saline_1_276 = \"F:/Two-Photon/Psilocybin Project/Evoked Cohort Mice/ID276/ID276_03032023_saline/TSeries-03032023-1447-059/suite2p/plane0/cells.pkl\"\n",
    "saline_2_276 = \"F:/Two-Photon/Psilocybin Project/Evoked Cohort Mice/ID276/ID276_03032023_saline/TSeries-03032023-1447-060/suite2p/plane0/cells.pkl\"\n",
    "\n",
    "saline_1_473 = \"F:/Two-Photon/Psilocybin Project/Evoked Cohort Mice/ID473/saline/TSeries-01142009-2331-135/suite2p/plane0/cells.pkl\"\n",
    "saline_2_473 = \"F:/Two-Photon/Psilocybin Project/Evoked Cohort Mice/ID473/saline/TSeries-01142009-2331-136/suite2p/plane0/cells.pkl\"\n",
    "\n",
    "saline_1_474 = \"F:/Two-Photon/Psilocybin Project/Evoked Cohort Mice/ID474/saline/TSeries-01142009-2331-137/suite2p/plane0/cells.pkl\"\n",
    "saline_2_474 = \"F:/Two-Photon/Psilocybin Project/Evoked Cohort Mice/ID474/saline/TSeries-01142009-2331-138/suite2p/plane0/cells.pkl\"\n",
    "\n",
    "all_dicts_saline_1 = [saline_1_186,saline_1_237,saline_1_239,saline_1_251,saline_1_269,saline_1_276,saline_1_473,saline_1_474]\n",
    "all_dicts_saline_2 = [saline_2_186,saline_2_237,saline_2_239,saline_2_251,saline_2_269,saline_2_276,saline_2_473,saline_2_474]\n",
    "all_dicts_saline_1_str = [\"saline_1_186\",\"saline_1_237\",\"saline_1_239\",\"saline_1_251\",\"saline_1_269\",\"saline_1_276\",\"saline_1_473\",\"saline_1_474\"]\n",
    "all_dicts_saline_2_str =  [\"saline_2_186\",\"saline_2_237\",\"saline_2_239\",\"saline_2_251\",\"saline_2_269\",\"saline_2_276\",\"saline_2_473\",\"saline_2_474\"]\n",
    "saline_1 ={}\n",
    "saline_2 = {}\n",
    "\n",
    "for file in all_dicts_saline_1_str:\n",
    "    saline_1[file]=None\n",
    "\n",
    "for file in all_dicts_saline_2_str:\n",
    "    saline_2[file] = None\n",
    "\n",
    "zippedsaline = zip(all_dicts_saline_1, all_dicts_saline_1_str)\n",
    "for k,v in zippedsaline:\n",
    "    with open(k,'rb') as f:\n",
    "        saline_1[v] = pickle.load(f)\n",
    "\n",
    "zippedpsilo = zip(all_dicts_saline_2, all_dicts_saline_2_str)\n",
    "for k,v in zippedpsilo:\n",
    "    with open(k,'rb') as f:\n",
    "        saline_2[v] = pickle.load(f)"
   ]
  },
  {
   "cell_type": "code",
   "execution_count": 3,
   "metadata": {},
   "outputs": [],
   "source": [
    "# LOAD REQUIRED FILES PSILO DAY\n",
    "\n",
    "# saline_184 = \"C:/Users/Conor/Documents/Imaging_Data/Two-Photon/Psilocybin_Project/Evoked_Cohort_Mice/ID184/12052022_GCaMP6s_ID184_psilo/TSeries-01012009-0054-028/suite2p/plane0/cells.pkl\"\n",
    "# psilo_184 = \"C:/Users/Conor/Documents/Imaging_Data/Two-Photon/Psilocybin_Project/Evoked_Cohort_Mice/ID184/12052022_GCaMP6s_ID184_psilo/TSeries-01012009-0054-029/suite2p/plane0/cells.pkl\"\n",
    "\n",
    "saline_186 = \"F:/Two-Photon/Psilocybin Project/Evoked Cohort Mice/ID186/12012022_GCaMP6s_ID186_psilo/TSeries-12012022-1321-026/suite2p/plane0/cells.pkl\"\n",
    "psilo_186 = \"F:/Two-Photon/Psilocybin Project/Evoked Cohort Mice/ID186/12012022_GCaMP6s_ID186_psilo/TSeries-12012022-1321-027/suite2p/plane0/cells.pkl\"\n",
    "\n",
    "saline_237 = \"F:/Two-Photon/Psilocybin Project/Evoked Cohort Mice/ID237/12122022_GCaMP6s_ID237_psilo/TSeries-12122022-1307-033/suite2p/plane0/cells.pkl\"\n",
    "psilo_237 = \"F:/Two-Photon/Psilocybin Project/Evoked Cohort Mice/ID237/12122022_GCaMP6s_ID237_psilo/TSeries-12122022-1307-034/suite2p/plane0/cells.pkl\"\n",
    "\n",
    "saline_239 = \"F:/Two-Photon/Psilocybin Project/Evoked Cohort Mice/ID239/01172023_Psilo/TSeries-01172023-1212-042/suite2p/plane0/cells.pkl\"\n",
    "psilo_239 = \"F:/Two-Photon/Psilocybin Project/Evoked Cohort Mice/ID239/01172023_Psilo/TSeries-01172023-1212-043/suite2p/plane0/cells.pkl\"\n",
    "\n",
    "saline_251 = \"F:/Two-Photon/Psilocybin Project/Evoked Cohort Mice/ID251/ID251_17012023_psilo/TSeries-01172023-1212-044/suite2p/plane0/cells.pkl\"\n",
    "psilo_251 = \"F:/Two-Photon/Psilocybin Project/Evoked Cohort Mice/ID251/ID251_17012023_psilo/TSeries-01172023-1212-045/suite2p/plane0/cells.pkl\"\n",
    "\n",
    "saline_269 = \"F:/Two-Photon/Psilocybin Project/Evoked Cohort Mice/ID269/ID269_08032023_psilocybin/TSeries-03082023-1211-065/suite2p/plane0/cells.pkl\"\n",
    "psilo_269 = \"F:/Two-Photon/Psilocybin Project/Evoked Cohort Mice/ID269/ID269_08032023_psilocybin/TSeries-03082023-1211-066/suite2p/plane0/cells.pkl\"\n",
    "\n",
    "saline_276 = \"F:/Two-Photon/Psilocybin Project/Evoked Cohort Mice/ID276/ID276_07032023_Psilocybin/TSeries-03072023-1303-063/suite2p/plane0/cells.pkl\"\n",
    "psilo_276 = \"F:/Two-Photon/Psilocybin Project/Evoked Cohort Mice/ID276/ID276_07032023_Psilocybin/TSeries-03072023-1303-064/suite2p/plane0/cells.pkl\"\n",
    "\n",
    "saline_473 = \"F:/Two-Photon/Psilocybin Project/Evoked Cohort Mice/ID473/psilo/TSeries-10132023-1324-139/suite2p/plane0/cells.pkl\"\n",
    "psilo_473 = \"F:/Two-Photon/Psilocybin Project/Evoked Cohort Mice/ID473/psilo/TSeries-10132023-1324-140/suite2p/plane0/cells.pkl\"\n",
    "\n",
    "saline_474 = \"F:/Two-Photon/Psilocybin Project/Evoked Cohort Mice/ID474/psilo/TSeries-10132023-1324-142/suite2p/plane0/cells.pkl\"\n",
    "psilo_474 = \"F:/Two-Photon/Psilocybin Project/Evoked Cohort Mice/ID474/psilo/TSeries-10132023-1324-143/suite2p/plane0/cells.pkl\"\n",
    "\n",
    "all_dicts_saline = [saline_186,saline_237,saline_239,saline_251,saline_269,saline_276,saline_473,saline_474]\n",
    "all_dicts_psilo = [psilo_186,psilo_237,psilo_239,psilo_251,psilo_269,psilo_276,psilo_473,psilo_474]\n",
    "all_dicts_saline_str = [\"saline_186\",\"saline_237\",\"saline_239\",\"saline_251\",\"saline_269\",\"saline_276\",\"saline_473\",\"saline_474\"]\n",
    "all_dicts_psilo_str = [\"psilo_186\",\"psilo_237\",\"psilo_239\",\"psilo_251\",\"psilo_269\",\"psilo_276\",\"psilo_473\",\"psilo_474\"]\n",
    "psilo_1 ={}\n",
    "psilo_2 = {}\n",
    "\n",
    "for file in all_dicts_saline_str:\n",
    "    psilo_1[file]=None\n",
    "\n",
    "for file in all_dicts_psilo_str:\n",
    "    psilo_2[file] = None\n",
    "\n",
    "\n",
    "zippedsaline = zip(all_dicts_saline, all_dicts_saline_str)\n",
    "for k,v in zippedsaline:\n",
    "    with open(k,'rb') as f:\n",
    "        psilo_1[v] = pickle.load(f)\n",
    "\n",
    "\n",
    "zippedpsilo = zip(all_dicts_psilo, all_dicts_psilo_str)\n",
    "for k,v in zippedpsilo:\n",
    "    with open(k,'rb') as f:\n",
    "        psilo_2[v] = pickle.load(f)"
   ]
  },
  {
   "cell_type": "markdown",
   "metadata": {},
   "source": [
    "SAVE THE FOUR DICTIONARIES:"
   ]
  },
  {
   "cell_type": "code",
   "execution_count": 4,
   "metadata": {},
   "outputs": [],
   "source": [
    "# PRE-SALINE\n",
    "\n",
    "with open(BASE_PATH+\"saline_pre_dict.pkl\",'wb') as f:\n",
    "         pickle.dump(saline_1,f)  "
   ]
  },
  {
   "cell_type": "code",
   "execution_count": 5,
   "metadata": {},
   "outputs": [],
   "source": [
    "# POST-SALINE\n",
    "\n",
    "with open(BASE_PATH+\"saline_post_dict.pkl\",'wb') as f:\n",
    "         pickle.dump(saline_2,f)"
   ]
  },
  {
   "cell_type": "code",
   "execution_count": 6,
   "metadata": {},
   "outputs": [],
   "source": [
    "# PRE-PSILO\n",
    "\n",
    "with open(BASE_PATH+\"psilo_pre_dict.pkl\",'wb') as f:\n",
    "         pickle.dump(psilo_1,f)     "
   ]
  },
  {
   "cell_type": "code",
   "execution_count": 7,
   "metadata": {},
   "outputs": [],
   "source": [
    "# POST-PSILO\n",
    "\n",
    "with open(BASE_PATH+\"psilo_post_dict.pkl\",'wb') as f:\n",
    "         pickle.dump(psilo_2,f)"
   ]
  }
 ],
 "metadata": {
  "kernelspec": {
   "display_name": "Python 3",
   "language": "python",
   "name": "python3"
  },
  "language_info": {
   "codemirror_mode": {
    "name": "ipython",
    "version": 3
   },
   "file_extension": ".py",
   "mimetype": "text/x-python",
   "name": "python",
   "nbconvert_exporter": "python",
   "pygments_lexer": "ipython3",
   "version": "3.9.13"
  }
 },
 "nbformat": 4,
 "nbformat_minor": 2
}
