{
 "cells": [
  {
   "cell_type": "code",
   "execution_count": 1,
   "metadata": {},
   "outputs": [],
   "source": [
    "import pickle\n",
    "import numpy as np\n",
    "import pandas as pd\n",
    "import matplotlib.pyplot as plt\n",
    "from scipy.stats import entropy\n",
    "import seaborn as sns\n",
    "import scipy.io as scio\n",
    "from mpl_toolkits.axes_grid1 import make_axes_locatable"
   ]
  },
  {
   "cell_type": "code",
   "execution_count": 2,
   "metadata": {},
   "outputs": [],
   "source": [
    "def get_active_cells(deconvolved_traces):\n",
    "\n",
    "    # going to return a dictionary with only active cells, formatted exactly the same as traces\n",
    "\n",
    "    d = dict.fromkeys(deconvolved_traces.keys())\n",
    "\n",
    "    for cell in deconvolved_traces:\n",
    "        if deconvolved_traces[cell]['active'] == True:\n",
    "            d[cell] = deconvolved_traces[cell]\n",
    "        else:\n",
    "            d.pop(cell,None)\n",
    "\n",
    "    return d"
   ]
  },
  {
   "cell_type": "code",
   "execution_count": 3,
   "metadata": {},
   "outputs": [],
   "source": [
    "data_pre =  \"F:/Two-Photon/Psilocybin Project/Evoked Cohort Mice/ID474/psilo/TSeries-10132023-1324-142/suite2p/plane0/cells.pkl\"\n",
    "data_post = \"F:/Two-Photon/Psilocybin Project/Evoked Cohort Mice/ID474/psilo/TSeries-10132023-1324-143/suite2p/plane0/cells.pkl\"\n",
    "\n",
    "\n",
    "\n",
    "with open(data_pre, 'rb') as f:\n",
    "    data_pre = pickle.load(f)\n",
    "\n",
    "with open(data_post, 'rb') as f:\n",
    "    data_post = pickle.load(f)"
   ]
  },
  {
   "cell_type": "code",
   "execution_count": 5,
   "metadata": {},
   "outputs": [
    {
     "name": "stdout",
     "output_type": "stream",
     "text": [
      "[[   3    1]\n",
      " [   5  264]\n",
      " [  11   37]\n",
      " [  12   52]\n",
      " [  13   40]\n",
      " [  15  271]\n",
      " [  16   31]\n",
      " [  21   12]\n",
      " [  22   56]\n",
      " [  23   96]\n",
      " [  24  129]\n",
      " [  30  249]\n",
      " [  31  194]\n",
      " [  36  490]\n",
      " [  39  116]\n",
      " [  41   41]\n",
      " [  49    3]\n",
      " [  54   99]\n",
      " [  57  565]\n",
      " [  59   79]\n",
      " [  60  370]\n",
      " [  65  164]\n",
      " [  70   95]\n",
      " [  71  456]\n",
      " [  83  320]\n",
      " [  87   33]\n",
      " [  90  138]\n",
      " [  96  475]\n",
      " [  98  359]\n",
      " [  99   46]\n",
      " [ 105   89]\n",
      " [ 106 1040]\n",
      " [ 107   54]\n",
      " [ 111  590]\n",
      " [ 120  306]\n",
      " [ 124  322]\n",
      " [ 125   65]\n",
      " [ 129   74]\n",
      " [ 133  323]\n",
      " [ 134  289]\n",
      " [ 138  215]\n",
      " [ 145  331]\n",
      " [ 147  124]\n",
      " [ 152  223]\n",
      " [ 154   70]\n",
      " [ 155  222]\n",
      " [ 158   19]\n",
      " [ 163  272]\n",
      " [ 171   23]\n",
      " [ 172  120]\n",
      " [ 177  520]\n",
      " [ 178   91]\n",
      " [ 181  562]\n",
      " [ 182  102]\n",
      " [ 183  154]\n",
      " [ 185  591]\n",
      " [ 201  419]\n",
      " [ 206   68]\n",
      " [ 213  380]\n",
      " [ 214  119]\n",
      " [ 223  155]\n",
      " [ 224   77]\n",
      " [ 231  179]\n",
      " [ 232  493]\n",
      " [ 235  140]\n",
      " [ 240  539]\n",
      " [ 246  319]\n",
      " [ 251  578]\n",
      " [ 257  158]\n",
      " [ 268  187]\n",
      " [ 269  649]\n",
      " [ 276  143]\n",
      " [ 284   73]\n",
      " [ 287  109]\n",
      " [ 323  548]\n",
      " [ 342  259]\n",
      " [ 357  744]\n",
      " [ 361  451]\n",
      " [ 366   66]\n",
      " [ 372  192]\n",
      " [ 382  110]\n",
      " [ 385  181]\n",
      " [ 390  159]\n",
      " [ 391  153]\n",
      " [ 399  956]\n",
      " [ 431   72]\n",
      " [ 440  324]\n",
      " [ 460  188]\n",
      " [ 470  367]\n",
      " [ 472  543]\n",
      " [ 474 1122]\n",
      " [ 483  126]\n",
      " [ 485  623]\n",
      " [ 498   11]\n",
      " [ 518   14]\n",
      " [ 523  219]\n",
      " [ 560  131]\n",
      " [ 604   87]\n",
      " [ 615  101]\n",
      " [ 621  381]\n",
      " [ 622  221]\n",
      " [ 628  675]\n",
      " [ 639  197]\n",
      " [ 661  627]\n",
      " [ 732  434]\n",
      " [ 733  551]\n",
      " [ 768  224]\n",
      " [ 773  257]\n",
      " [ 800  276]\n",
      " [ 801  285]\n",
      " [ 805 1045]\n",
      " [ 852  692]\n",
      " [ 858   86]\n",
      " [ 859  385]\n",
      " [1018  278]\n",
      " [1348  227]\n",
      " [1428  400]]\n"
     ]
    }
   ],
   "source": [
    "print(data_post[1]['matched_cells'])"
   ]
  },
  {
   "cell_type": "code",
   "execution_count": 33,
   "metadata": {},
   "outputs": [],
   "source": [
    "active_pre = get_active_cells(data_pre)\n",
    "active_post = get_active_cells(data_post)"
   ]
  },
  {
   "cell_type": "code",
   "execution_count": 34,
   "metadata": {},
   "outputs": [
    {
     "name": "stdout",
     "output_type": "stream",
     "text": [
      "538\n",
      "250\n",
      "262\n"
     ]
    }
   ],
   "source": [
    "print(len(data_pre.keys()))\n",
    "\n",
    "\n",
    "print(len(active_pre.keys()))\n",
    "print(len(active_post.keys()))"
   ]
  },
  {
   "cell_type": "code",
   "execution_count": 71,
   "metadata": {},
   "outputs": [
    {
     "name": "stdout",
     "output_type": "stream",
     "text": [
      "91\n",
      "90\n",
      "[8, 15, 19, 29, 31, 35, 42, 47, 52, 76, 77, 81, 91, 94, 97, 98, 115, 117, 118, 120, 124, 125, 131, 134, 144, 148, 152, 156, 160, 187, 192, 193, 197, 208, 216, 237, 238, 242, 243, 254, 263, 271, 278, 290, 304, 330, 331, 333, 362, 378, 389, 396, 403, 406, 409, 417, 418, 423, 428, 489, 491, 495, 497, 508, 512, 518, 552, 576, 588, 610, 618, 624, 653, 683, 743, 752, 761, 832, 837, 867, 887, 961, 976, 1032, 1081, 1156, 1265, 1344, 1509, 2681]\n"
     ]
    }
   ],
   "source": [
    "active_both = [key for key in active_pre.keys() if key in active_post]\n",
    "\n",
    "\n",
    "active_only_post = [key for key in active_post if key not in active_pre]\n",
    "print(len(active_only_post))\n",
    "\n",
    "\n",
    "active_only_pre = [key for key in active_pre if key not in active_post]\n",
    "print(len(active_only_pre))\n",
    "print(active_only_pre)"
   ]
  },
  {
   "cell_type": "code",
   "execution_count": 6,
   "metadata": {},
   "outputs": [],
   "source": [
    "key1 = 13\n",
    "key2 = 40\n",
    "\n"
   ]
  },
  {
   "cell_type": "code",
   "execution_count": 15,
   "metadata": {},
   "outputs": [],
   "source": [
    "def find_max_column(arr):\n",
    "    # Find the column index of the global maximum value in the flattened array\n",
    "    global_max_index = np.argmax(arr)\n",
    "\n",
    "    # Convert the flattened index to row and column indices\n",
    "    row_index, global_max_column_index = np.unravel_index(global_max_index, arr.shape)\n",
    "\n",
    "    return global_max_column_index"
   ]
  },
  {
   "cell_type": "code",
   "execution_count": 21,
   "metadata": {},
   "outputs": [
    {
     "name": "stdout",
     "output_type": "stream",
     "text": [
      "[0.20749926 1.08906629 1.06071127 0.38727972 0.32920168 1.07712636\n",
      " 0.09072854 1.24691666 0.38463663 2.65716009 0.65530702 0.64658514]\n"
     ]
    }
   ],
   "source": [
    "tuning = data_pre[key2]['peak_tuning']\n",
    "\n",
    "# # Find the index of the maximum value\n",
    "# max_index = np.argmax(tuning)\n",
    "\n",
    "# print(\"Index of the maximum value:\", max_index)\n",
    "# print(\"Maximum value:\", tuning[max_index])\n",
    "\n",
    "\n",
    "print(tuning[:,0])"
   ]
  },
  {
   "cell_type": "code",
   "execution_count": 8,
   "metadata": {},
   "outputs": [
    {
     "data": {
      "image/png": "[encoded data removed]",
      "text/plain": [
       "<Figure size 1000x400 with 3 Axes>"
      ]
     },
     "metadata": {},
     "output_type": "display_data"
    }
   ],
   "source": [
    "# Plots the tuning of the cell in both recordings against one another. \n",
    "\n",
    "# Create a 2-panel figure with a shared colorbar\n",
    "fig, axs = plt.subplots(1, 2, figsize=(10, 4))\n",
    "\n",
    "# Plot the first array in the first subplot\n",
    "im1 = axs[0].imshow(data_pre[key1]['peak_tuning'], cmap='viridis')\n",
    "axs[0].set_title('Pre')\n",
    "\n",
    "\n",
    "# Plot the second array in the second subplot\n",
    "im2 = axs[1].imshow(data_post[key2]['peak_tuning'], cmap='plasma')  # 'plasma' is just another example colormap\n",
    "axs[1].set_title('Post')\n",
    "\n",
    "\n",
    "# Add a colorbar to the right of the subplots\n",
    "divider = make_axes_locatable(axs[1])\n",
    "cax = divider.append_axes(\"right\", size=\"5%\", pad=0.1)\n",
    "cbar = plt.colorbar(im2, cax=cax)\n",
    "cbar.set_label('Colorbar Label')  # Replace with your desired label\n",
    "\n",
    "# Adjust layout for better spacing\n",
    "plt.tight_layout()\n",
    "\n",
    "# Show the plot\n",
    "plt.show()"
   ]
  },
  {
   "cell_type": "code",
   "execution_count": 7,
   "metadata": {},
   "outputs": [
    {
     "ename": "NameError",
     "evalue": "name 'active_pre' is not defined",
     "output_type": "error",
     "traceback": [
      "\u001b[1;31m---------------------------------------------------------------------------\u001b[0m",
      "\u001b[1;31mNameError\u001b[0m                                 Traceback (most recent call last)",
      "Cell \u001b[1;32mIn[7], line 7\u001b[0m\n\u001b[0;32m      4\u001b[0m fig, axs \u001b[38;5;241m=\u001b[39m plt\u001b[38;5;241m.\u001b[39msubplots(\u001b[38;5;241m1\u001b[39m, \u001b[38;5;241m2\u001b[39m, figsize\u001b[38;5;241m=\u001b[39m(\u001b[38;5;241m10\u001b[39m, \u001b[38;5;241m4\u001b[39m))\n\u001b[0;32m      6\u001b[0m \u001b[38;5;66;03m# Plot the first array in the first subplot\u001b[39;00m\n\u001b[1;32m----> 7\u001b[0m im1 \u001b[38;5;241m=\u001b[39m axs[\u001b[38;5;241m0\u001b[39m]\u001b[38;5;241m.\u001b[39mimshow(\u001b[43mactive_pre\u001b[49m[key][\u001b[38;5;124m'\u001b[39m\u001b[38;5;124mtuning\u001b[39m\u001b[38;5;124m'\u001b[39m], cmap\u001b[38;5;241m=\u001b[39m\u001b[38;5;124m'\u001b[39m\u001b[38;5;124mviridis\u001b[39m\u001b[38;5;124m'\u001b[39m)\n\u001b[0;32m      8\u001b[0m axs[\u001b[38;5;241m0\u001b[39m]\u001b[38;5;241m.\u001b[39mset_title(\u001b[38;5;124m'\u001b[39m\u001b[38;5;124mPre\u001b[39m\u001b[38;5;124m'\u001b[39m)\n\u001b[0;32m     11\u001b[0m \u001b[38;5;66;03m# Plot the second array in the second subplot\u001b[39;00m\n",
      "\u001b[1;31mNameError\u001b[0m: name 'active_pre' is not defined"
     ]
    },
    {
     "data": {
      "image/png": "[encoded data removed]",
      "text/plain": [
       "<Figure size 1000x400 with 2 Axes>"
      ]
     },
     "metadata": {},
     "output_type": "display_data"
    }
   ],
   "source": [
    "# Plots the tuning of the cell in both recordings against one another. \n",
    "\n",
    "# Create a 2-panel figure with a shared colorbar\n",
    "fig, axs = plt.subplots(1, 2, figsize=(10, 4))\n",
    "\n",
    "# Plot the first array in the first subplot\n",
    "im1 = axs[0].imshow(active_pre[key]['tuning'], cmap='viridis')\n",
    "axs[0].set_title('Pre')\n",
    "\n",
    "\n",
    "# Plot the second array in the second subplot\n",
    "im2 = axs[1].imshow(active_post[key]['tuning'], cmap='plasma')  # 'plasma' is just another example colormap\n",
    "axs[1].set_title('Post')\n",
    "\n",
    "\n",
    "# Add a colorbar to the right of the subplots\n",
    "divider = make_axes_locatable(axs[1])\n",
    "cax = divider.append_axes(\"right\", size=\"5%\", pad=0.1)\n",
    "cbar = plt.colorbar(im2, cax=cax)\n",
    "cbar.set_label('Colorbar Label')  # Replace with your desired label\n",
    "\n",
    "# Adjust layout for better spacing\n",
    "plt.tight_layout()\n",
    "\n",
    "# Show the plot\n",
    "plt.show()"
   ]
  },
  {
   "cell_type": "code",
   "execution_count": 9,
   "metadata": {},
   "outputs": [],
   "source": [
    "def find_max_column(arr):\n",
    "    # Find the column index of the global maximum value in the flattened array\n",
    "    global_max_index = np.argmax(arr)\n",
    "\n",
    "    # Convert the flattened index to row and column indices\n",
    "    row_index, global_max_column_index = np.unravel_index(global_max_index, arr.shape)\n",
    "\n",
    "    return global_max_column_index"
   ]
  },
  {
   "cell_type": "code",
   "execution_count": 10,
   "metadata": {},
   "outputs": [],
   "source": [
    "# Take the list of mutually active cells, and finds the best frequency across all intensities.  \n",
    "# Finds out which intensity contains the BF in the first recording, and takes all frequencies at that intensity, for both recordings.\n",
    "# e.g. if the BF across the whole array is at 65 dB, it'll take the whole 65 dB row for both recordings. \n",
    "# Counts the number of cells that retain their BF to within a specific range of frequencies and returns counts of those that changed or stayed the same. \n",
    "\n",
    "def compare_max_values_for_keys(keys, dict1, dict2, within_range):\n",
    "    same_place_counter = 0\n",
    "    not_same_counter = 0\n",
    "    BF_changed_cells = []\n",
    "\n",
    "    for key in keys:\n",
    "        if key in dict1 and key in dict2:\n",
    "            array1 = dict1[key]['tuning']\n",
    "            BF_column = find_max_column(array1)\n",
    "\n",
    "            array1 = array1[:,BF_column]\n",
    "\n",
    "            array2 = dict2[key]['tuning']\n",
    "            array2 = array2[:,BF_column]\n",
    "\n",
    "            max_value_index1 = np.argmax(array1)\n",
    "\n",
    "            max_value_index2 = np.argmax(array2)\n",
    "\n",
    "            diff_positions = abs(max_value_index1 - max_value_index2)\n",
    "\n",
    "            if max_value_index1 == max_value_index2 or diff_positions <= within_range:\n",
    "                same_place_counter += 1\n",
    "            else:\n",
    "                not_same_counter += 1\n",
    "                BF_changed_cells.append(key)\n",
    "\n",
    "    return same_place_counter, not_same_counter, BF_changed_cells\n",
    "\n"
   ]
  },
  {
   "cell_type": "code",
   "execution_count": null,
   "metadata": {},
   "outputs": [],
   "source": []
  },
  {
   "cell_type": "code",
   "execution_count": 11,
   "metadata": {},
   "outputs": [
    {
     "name": "stdout",
     "output_type": "stream",
     "text": [
      "BF Unchanged =  101\n",
      "BF Changed =  57\n",
      "% Changed =  36.075949367088604\n",
      "[9, 21, 46, 54, 74, 79, 95, 116, 118, 133, 142, 144, 183, 188, 204, 205, 217, 225, 227, 229, 231, 235, 242, 264, 275, 282, 294, 295, 327, 343, 346, 404, 452, 477, 507, 513, 519, 546, 647, 694, 716, 737, 751, 790, 834, 876, 895, 1043, 1081, 1112, 1156, 1209, 1297, 1362, 1444, 1765, 2120]\n"
     ]
    }
   ],
   "source": [
    "BF_unchanged, BF_changed, BF_changed_cells = compare_max_values_for_keys(active_both, active_pre, active_post,2)\n",
    "print(\"BF Unchanged = \",BF_unchanged)\n",
    "print(\"BF Changed = \",BF_changed)\n",
    "\n",
    "Percent_changed = BF_changed/len(active_both)*100\n",
    "print(\"% Changed = \", Percent_changed)\n",
    "\n",
    "print(BF_changed_cells)\n"
   ]
  },
  {
   "cell_type": "markdown",
   "metadata": {},
   "source": [
    "CORRELATION ANALYSIS: "
   ]
  },
  {
   "cell_type": "code",
   "execution_count": 12,
   "metadata": {},
   "outputs": [
    {
     "name": "stdout",
     "output_type": "stream",
     "text": [
      "[4364, 5371, 6612, 8140, 10020, 12335, 15184, 18691, 23009, 28324, 34867, 42922] [35, 50, 65, 80] [1, 2, 3, 4, 5, 6, 7, 8, 9, 10]\n"
     ]
    }
   ],
   "source": [
    "cell_list = list(data_pre.keys())\n",
    "nfreq = list(data_pre[cell_list[0]]['traces'].keys())\n",
    "nInt = list(data_pre[cell_list[0]]['traces'][nfreq[0]].keys())\n",
    "ntrial = list(data_pre[cell_list[0]]['traces'][nfreq[0]][nInt[0]].keys())\n",
    "\n",
    "print(nfreq, nInt, ntrial)\n"
   ]
  },
  {
   "cell_type": "code",
   "execution_count": 13,
   "metadata": {},
   "outputs": [
    {
     "ename": "FileNotFoundError",
     "evalue": "[Errno 2] No such file or directory: 'F:/Two-Photon/Psilocybin Project/evoked_combined/ID474/saline/post_saline/ID474_post_saline_all_cells.npy'",
     "output_type": "error",
     "traceback": [
      "\u001b[1;31m---------------------------------------------------------------------------\u001b[0m",
      "\u001b[1;31mFileNotFoundError\u001b[0m                         Traceback (most recent call last)",
      "Cell \u001b[1;32mIn[13], line 3\u001b[0m\n\u001b[0;32m      1\u001b[0m raster_filepath \u001b[38;5;241m=\u001b[39m \u001b[38;5;124m\"\u001b[39m\u001b[38;5;124mF:/Two-Photon/Psilocybin Project/evoked_combined/ID474/saline/post_saline/ID474_post_saline_all_cells.npy\u001b[39m\u001b[38;5;124m\"\u001b[39m\n\u001b[1;32m----> 3\u001b[0m raster_matrix \u001b[38;5;241m=\u001b[39m \u001b[43mnp\u001b[49m\u001b[38;5;241;43m.\u001b[39;49m\u001b[43mload\u001b[49m\u001b[43m(\u001b[49m\u001b[43mraster_filepath\u001b[49m\u001b[43m)\u001b[49m\n\u001b[0;32m      5\u001b[0m \u001b[38;5;28mprint\u001b[39m(raster_matrix\u001b[38;5;241m.\u001b[39mshape)\n\u001b[0;32m      7\u001b[0m plt\u001b[38;5;241m.\u001b[39mimshow(raster_matrix)\n",
      "File \u001b[1;32m~\\AppData\\Local\\Packages\\PythonSoftwareFoundation.Python.3.9_qbz5n2kfra8p0\\LocalCache\\local-packages\\Python39\\site-packages\\numpy\\lib\\npyio.py:405\u001b[0m, in \u001b[0;36mload\u001b[1;34m(file, mmap_mode, allow_pickle, fix_imports, encoding, max_header_size)\u001b[0m\n\u001b[0;32m    403\u001b[0m     own_fid \u001b[38;5;241m=\u001b[39m \u001b[38;5;28;01mFalse\u001b[39;00m\n\u001b[0;32m    404\u001b[0m \u001b[38;5;28;01melse\u001b[39;00m:\n\u001b[1;32m--> 405\u001b[0m     fid \u001b[38;5;241m=\u001b[39m stack\u001b[38;5;241m.\u001b[39menter_context(\u001b[38;5;28;43mopen\u001b[39;49m\u001b[43m(\u001b[49m\u001b[43mos_fspath\u001b[49m\u001b[43m(\u001b[49m\u001b[43mfile\u001b[49m\u001b[43m)\u001b[49m\u001b[43m,\u001b[49m\u001b[43m \u001b[49m\u001b[38;5;124;43m\"\u001b[39;49m\u001b[38;5;124;43mrb\u001b[39;49m\u001b[38;5;124;43m\"\u001b[39;49m\u001b[43m)\u001b[49m)\n\u001b[0;32m    406\u001b[0m     own_fid \u001b[38;5;241m=\u001b[39m \u001b[38;5;28;01mTrue\u001b[39;00m\n\u001b[0;32m    408\u001b[0m \u001b[38;5;66;03m# Code to distinguish from NumPy binary files and pickles.\u001b[39;00m\n",
      "\u001b[1;31mFileNotFoundError\u001b[0m: [Errno 2] No such file or directory: 'F:/Two-Photon/Psilocybin Project/evoked_combined/ID474/saline/post_saline/ID474_post_saline_all_cells.npy'"
     ]
    }
   ],
   "source": [
    "raster_filepath = \"F:/Two-Photon/Psilocybin Project/evoked_combined/ID474/saline/post_saline/ID474_post_saline_all_cells.npy\"\n",
    "\n",
    "raster_matrix = np.load(raster_filepath)\n",
    "\n",
    "print(raster_matrix.shape)\n",
    "\n",
    "plt.imshow(raster_matrix)"
   ]
  },
  {
   "cell_type": "code",
   "execution_count": null,
   "metadata": {},
   "outputs": [
    {
     "data": {
      "image/png": "[encoded data removed]",
      "text/plain": [
       "<Figure size 640x480 with 1 Axes>"
      ]
     },
     "metadata": {},
     "output_type": "display_data"
    }
   ],
   "source": [
    "plt.imshow(raster_matrix, cmap='viridis', aspect='auto', interpolation='none')\n",
    "plt.xlabel('Frame')\n",
    "plt.ylabel('Cell')\n",
    "plt.title('ID 474 Binary for All Cells, Post-Saline')\n",
    "plt.show()"
   ]
  },
  {
   "cell_type": "code",
   "execution_count": null,
   "metadata": {},
   "outputs": [
    {
     "name": "stdout",
     "output_type": "stream",
     "text": [
      "[3, 4, 11, 13, 14, 18, 21, 22, 24, 25, 26, 27, 29, 31, 32, 39, 43, 45, 49, 50, 53, 56, 58, 59, 60, 61, 62, 64, 69, 70, 74, 75, 77, 79, 83, 85, 86, 87, 88, 89, 91, 93, 95, 100, 101, 105, 107, 108, 109, 110, 112, 114, 115, 120, 126, 130, 132, 133, 134, 135, 136, 139, 142, 146, 147, 148, 149, 153, 154, 156, 159, 160, 162, 163, 164, 167, 168, 171, 172, 175, 177, 178, 179, 181, 183, 184, 185, 186, 187, 189, 192, 194, 195, 197, 198, 199, 203, 204, 205, 207, 208, 209, 211, 215, 216, 217, 218, 225, 227, 228, 229, 230, 234, 237, 239, 241, 243, 245, 247, 251, 256, 258, 259, 263, 265, 267, 271, 281, 285, 287, 290, 294, 295, 296, 297, 300, 305, 306, 308, 312, 313, 315, 318, 321, 323, 325, 327, 332, 334, 336, 339, 341, 347, 348, 350, 351, 352, 354, 355, 358, 359, 360, 361, 363, 364, 366, 367, 371, 373, 375, 378, 383, 386, 387, 397, 404, 405, 407, 409, 410, 412, 415, 430, 431, 436, 437, 438, 440, 447, 448, 450, 456, 457, 463, 464, 465, 466, 467, 468, 476, 479, 483, 488, 491, 492, 494, 495, 504, 508, 516, 532, 544, 545, 554, 566, 568, 574, 583, 585, 587, 594, 602, 603, 610, 612, 613, 614, 616, 619, 624, 631, 651, 654, 658, 659, 664, 665, 666, 669, 670, 674, 675, 676, 680, 683, 695, 702, 704, 711, 718, 724, 732, 733, 734, 743, 747, 757, 759, 761, 768, 772, 776, 781, 783, 784, 787, 792, 794, 799, 801, 809, 817, 821, 826, 829, 830, 832, 834, 848, 850, 854, 859, 867, 869, 874, 879, 881, 887, 888, 894, 899, 900, 914, 924, 937, 942, 949, 973, 975, 981, 989, 990, 1009, 1021, 1038, 1045, 1047, 1057, 1069, 1075, 1098, 1125, 1149, 1163, 1164, 1166, 1202, 1265, 1370, 1411, 1434, 1474, 1551, 1744, 1970]\n",
      "[2, 3, 10, 12, 13, 17, 20, 21, 23, 24, 25, 26, 28, 30, 31, 38, 42, 44, 48, 49, 52, 55, 57, 58, 59, 60, 61, 63, 68, 69, 73, 74, 76, 78, 82, 84, 85, 86, 87, 88, 90, 92, 94, 99, 100, 104, 106, 107, 108, 109, 111, 113, 114, 119, 125, 129, 131, 132, 133, 134, 135, 138, 141, 145, 146, 147, 148, 152, 153, 155, 158, 159, 161, 162, 163, 166, 167, 170, 171, 174, 176, 177, 178, 180, 182, 183, 184, 185, 186, 188, 191, 193, 194, 196, 197, 198, 202, 203, 204, 206, 207, 208, 210, 214, 215, 216, 217, 224, 226, 227, 228, 229, 233, 236, 238, 240, 242, 244, 246, 250, 255, 257, 258, 262, 264, 266, 270, 280, 284, 286, 289, 293, 294, 295, 296, 299, 304, 305, 307, 311, 312, 314, 317, 320, 322, 324, 326, 331, 333, 335, 338, 340, 346, 347, 349, 350, 351, 353, 354, 357, 358, 359, 360, 362, 363, 365, 366, 370, 372, 374, 377, 382, 385, 386, 396, 403, 404, 406, 408, 409, 411, 414, 429, 430, 435, 436, 437, 439, 446, 447, 449, 455, 456, 462, 463, 464, 465, 466, 467, 475, 478, 482, 487, 490, 491, 493, 494, 503, 507, 515, 531, 543, 544, 553, 565, 567, 573, 582, 584, 586, 593, 601, 602, 609, 611, 612, 613, 615, 618, 623, 630, 650, 653, 657, 658, 663, 664, 665, 668, 669, 673, 674, 675, 679, 682, 694, 701, 703, 710, 717, 723, 731, 732, 733, 742, 746, 756, 758, 760, 767, 771, 775, 780, 782, 783, 786, 791, 793, 798, 800, 808, 816, 820, 825, 828, 829, 831, 833, 847, 849, 853, 858, 866, 868, 873, 878, 880, 886, 887, 893, 898, 899, 913, 923, 936, 941, 948, 972, 974, 980, 988, 989, 1008, 1020, 1037, 1044, 1046, 1056, 1068, 1074, 1097, 1124, 1148, 1162, 1163, 1165, 1201, 1264, 1369, 1410, 1433, 1473, 1550, 1743, 1969]\n"
     ]
    }
   ],
   "source": [
    "active_list = list(active_post.keys())\n",
    "print(active_list)\n",
    "active_index = [x -1 for x in active_list]\n",
    "print(active_index)"
   ]
  },
  {
   "cell_type": "code",
   "execution_count": null,
   "metadata": {},
   "outputs": [],
   "source": []
  }
 ],
 "metadata": {
  "kernelspec": {
   "display_name": "Python 3",
   "language": "python",
   "name": "python3"
  },
  "language_info": {
   "codemirror_mode": {
    "name": "ipython",
    "version": 3
   },
   "file_extension": ".py",
   "mimetype": "text/x-python",
   "name": "python",
   "nbconvert_exporter": "python",
   "pygments_lexer": "ipython3",
   "version": "3.9.13"
  }
 },
 "nbformat": 4,
 "nbformat_minor": 2
}
