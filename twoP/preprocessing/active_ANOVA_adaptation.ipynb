{
 "cells": [
  {
   "cell_type": "code",
   "execution_count": 305,
   "metadata": {},
   "outputs": [],
   "source": [
    "import numpy as np\n",
    "import pickle\n",
    "import matplotlib.pyplot as plt\n",
    "from scipy.stats import f_oneway"
   ]
  },
  {
   "cell_type": "code",
   "execution_count": 306,
   "metadata": {},
   "outputs": [],
   "source": [
    "BASE_PATH = \"F:/Two-Photon/Psilocybin Project/Adaptation Cohort/ID489/psilo/TSeries-10132023-1324-152/suite2p/plane0/\"\n",
    "\n",
    "with open(BASE_PATH + 'cells.pkl','rb') as f:\n",
    "    cell_dict = pickle.load(f)"
   ]
  },
  {
   "cell_type": "code",
   "execution_count": 307,
   "metadata": {},
   "outputs": [
    {
     "name": "stdout",
     "output_type": "stream",
     "text": [
      "[4364, 5371, 6612, 8140, 10020, 12335, 15184, 18691, 23009, 28324, 34867, 42922] [65] [1, 2, 3, 4, 5, 6, 7, 8, 9, 10]\n"
     ]
    }
   ],
   "source": [
    "nfreq = list(cell_dict[3]['traces'].keys())\n",
    "nInt = list(cell_dict[3]['traces'][nfreq[0]].keys())\n",
    "ntrial = list(cell_dict[3]['traces'][nfreq[0]][nInt[0]].keys())\n",
    "print(nfreq, nInt, ntrial)"
   ]
  },
  {
   "cell_type": "code",
   "execution_count": 308,
   "metadata": {},
   "outputs": [
    {
     "name": "stdout",
     "output_type": "stream",
     "text": [
      "129 responsive cells\n"
     ]
    }
   ],
   "source": [
    "active_cells = []\n",
    "for cell in cell_dict:\n",
    "    matrix = np.squeeze(np.array([[[cell_dict[cell]['deconvolved_traces'][i][j][k] for k in ntrial] for j in nInt] for i in nfreq]))\n",
    "    \n",
    "  \n",
    "    baseline = np.mean(matrix[:,:,:5])\n",
    "\n",
    "    baseline_subtracted = matrix[:,:,5:] - baseline\n",
    "\n",
    "    matrix_mean = np.mean(baseline_subtracted,axis=2)\n",
    "    \n",
    "    \n",
    "    # Perform one-way ANOVA\n",
    "    f_statistic, p_value = f_oneway(*matrix_mean)\n",
    "\n",
    "    # Print results\n",
    "\n",
    "    if p_value < 0.05:  # Common significance level\n",
    "        \n",
    "        active_cells.append(cell)\n",
    "        cell_dict[cell]['active'] = True\n",
    "        cell_dict[cell]['p_value'] = p_value\n",
    "    else:\n",
    "        \n",
    "        cell_dict[cell]['active'] = False   \n",
    "        cell_dict[cell]['p_value'] = p_value\n",
    "\n",
    "\n",
    "print(len(active_cells), \"responsive cells\")\n"
   ]
  },
  {
   "cell_type": "code",
   "execution_count": 309,
   "metadata": {},
   "outputs": [],
   "source": [
    "# save the dictionary with the added key ('active') to the same file\n",
    "with open(BASE_PATH + 'cells.pkl','wb') as f:\n",
    "    pickle.dump(cell_dict,f)\n"
   ]
  },
  {
   "cell_type": "code",
   "execution_count": 310,
   "metadata": {},
   "outputs": [],
   "source": [
    "# print(cell_dict.keys())"
   ]
  },
  {
   "cell_type": "code",
   "execution_count": 311,
   "metadata": {},
   "outputs": [],
   "source": [
    "# matrix_all = np.squeeze(np.array([[[[cell_dict[n]['deconvolved_traces'][i][j][k] for n in cell_dict.keys()] for k in ntrial] for j in nInt] for i in nfreq]))\n",
    "# print(matrix_all.shape)\n",
    "\n",
    "# baseline = np.mean(matrix_all[:,:,:,:5])\n",
    "\n",
    "# baseline_subtracted = matrix_all[:,:,:,5:] - baseline\n",
    "# print(baseline_subtracted.shape)\n",
    "\n",
    "# matrix_mean = np.mean(baseline_subtracted,axis=3)\n",
    "# print(matrix_mean.shape)\n",
    "\n",
    "# alltrials = np.mean(matrix_mean,axis=1)\n"
   ]
  },
  {
   "cell_type": "code",
   "execution_count": 312,
   "metadata": {},
   "outputs": [],
   "source": [
    "# plt.plot(alltrials[:,9])"
   ]
  }
 ],
 "metadata": {
  "kernelspec": {
   "display_name": "Python 3",
   "language": "python",
   "name": "python3"
  },
  "language_info": {
   "codemirror_mode": {
    "name": "ipython",
    "version": 3
   },
   "file_extension": ".py",
   "mimetype": "text/x-python",
   "name": "python",
   "nbconvert_exporter": "python",
   "pygments_lexer": "ipython3",
   "version": "3.9.13"
  }
 },
 "nbformat": 4,
 "nbformat_minor": 2
}
