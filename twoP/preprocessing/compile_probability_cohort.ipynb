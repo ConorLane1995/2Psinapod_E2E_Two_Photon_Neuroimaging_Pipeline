{
 "cells": [
  {
   "cell_type": "code",
   "execution_count": 2,
   "metadata": {},
   "outputs": [
    {
     "data": {
      "text/plain": [
       "'\\nAuthor:  Conor Lane, March 2024\\nContact: conor.lane1995@gmail.com\\n\\nPURPOSE:  Collate all of the individual recording files into four dictionaries (pre-saline, post_saline, pre-psilo, post-psilo) for easy analysis.\\n\\nINPUTS:  The filepaths of the individual recordings for saline and psilo days - update as more animals are added. \\n         Remember to also update the all_dicts and all_dicts_str with the names so that they can be correctly stored.\\n\\n         The BASE_BATH with the filepath to the folder that will store dicts. \\n'"
      ]
     },
     "execution_count": 2,
     "metadata": {},
     "output_type": "execute_result"
    }
   ],
   "source": [
    "'''\n",
    "Author:  Conor Lane, March 2024\n",
    "Contact: conor.lane1995@gmail.com\n",
    "\n",
    "PURPOSE:  Collate all of the individual recording files into four dictionaries (pre-saline, post_saline, pre-psilo, post-psilo) for easy analysis.\n",
    "\n",
    "INPUTS:  The filepaths of the individual recordings for saline and psilo days - update as more animals are added. \n",
    "         Remember to also update the all_dicts and all_dicts_str with the names so that they can be correctly stored.\n",
    "\n",
    "         The BASE_BATH with the filepath to the folder that will store dicts. \n",
    "'''"
   ]
  },
  {
   "cell_type": "code",
   "execution_count": 3,
   "metadata": {},
   "outputs": [],
   "source": [
    "import numpy as np\n",
    "import pickle\n",
    "\n",
    "BASE_PATH = \"F:/Two-Photon/Psilocybin Project/Adaptation Cohort/megadicts/\""
   ]
  },
  {
   "cell_type": "code",
   "execution_count": 4,
   "metadata": {},
   "outputs": [],
   "source": [
    "# LOAD REQUIRED FILES SALINE DAY\n",
    "\n",
    "saline_1_435 = \"F:/Two-Photon/Psilocybin Project/Adaptation Cohort/ID435/saline/TSeries-08072023-1534-109/suite2p/plane0/cells.pkl\"\n",
    "saline_2_435 = \"F:/Two-Photon/Psilocybin Project/Adaptation Cohort/ID435/saline/TSeries-08072023-1534-110/suite2p/plane0/cells.pkl\"\n",
    "\n",
    "saline_1_436 = \"F:/Two-Photon/Psilocybin Project/Adaptation Cohort/ID436/saline/TSeries-08072023-1534-111/suite2p/plane0/cells.pkl\"\n",
    "saline_2_436 = \"F:/Two-Photon/Psilocybin Project/Adaptation Cohort/ID436/saline/TSeries-08072023-1534-112/suite2p/plane0/cells.pkl\"\n",
    "\n",
    "saline_1_437 = \"F:/Two-Photon/Psilocybin Project/Adaptation Cohort/ID437/saline_25092023/TSeries-01142009-2331-125/suite2p/plane0/cells.pkl\"\n",
    "saline_2_437 = \"F:/Two-Photon/Psilocybin Project/Adaptation Cohort/ID437/saline_25092023/TSeries-01142009-2331-126/suite2p/plane0/cells.pkl\"\n",
    "\n",
    "saline_1_439 = \"F:/Two-Photon/Psilocybin Project/Adaptation Cohort/ID439/saline_25092023/TSeries-01142009-2331-128/suite2p/plane0/cells.pkl\"\n",
    "saline_2_439 = \"F:/Two-Photon/Psilocybin Project/Adaptation Cohort/ID439/saline_25092023/TSeries-01142009-2331-129/suite2p/plane0/cells.pkl\"\n",
    "\n",
    "saline_1_478 = \"F:/Two-Photon/Psilocybin Project/Adaptation Cohort/ID478/saline/TSeries-12132023-1207-154/suite2p/plane0/cells.pkl\"\n",
    "saline_2_478 = \"F:/Two-Photon/Psilocybin Project/Adaptation Cohort/ID478/saline/TSeries-12132023-1207-155/suite2p/plane0/cells.pkl\"\n",
    "\n",
    "saline_1_485 = \"F:/Two-Photon/Psilocybin Project/Adaptation Cohort/ID485/saline/TSeries-12132023-1207-156/suite2p/plane0/cells.pkl\"\n",
    "saline_2_485 = \"F:/Two-Photon/Psilocybin Project/Adaptation Cohort/ID485/saline/TSeries-12132023-1207-157/suite2p/plane0/cells.pkl\"\n",
    "\n",
    "saline_1_488 = \"F:/Two-Photon/Psilocybin Project/Adaptation Cohort/ID488/saline/TSeries-10132023-1324-145/suite2p/plane0/cells.pkl\"\n",
    "saline_2_488 = \"F:/Two-Photon/Psilocybin Project/Adaptation Cohort/ID488/saline/TSeries-10132023-1324-146/suite2p/plane0/cells.pkl\"\n",
    "\n",
    "saline_1_489 = \"F:/Two-Photon/Psilocybin Project/Adaptation Cohort/ID489/saline/TSeries-10132023-1324-147/suite2p/plane0/cells.pkl\"\n",
    "saline_2_489 = \"F:/Two-Photon/Psilocybin Project/Adaptation Cohort/ID489/saline/TSeries-10132023-1324-148/suite2p/plane0/cells.pkl\"\n",
    "\n",
    "all_dicts_saline_1 = [saline_1_435,saline_1_436,saline_1_437,saline_1_439,saline_1_478,saline_1_485,saline_1_488,saline_1_489]\n",
    "all_dicts_saline_2 = [saline_2_435,saline_2_436,saline_2_437,saline_2_439,saline_2_478,saline_2_485,saline_2_488,saline_2_489]\n",
    "all_dicts_saline_1_str = [\"saline_1_435\",\"saline_1_436\",\"saline_1_437\",\"saline_1_439\",\"saline_1_478\",\"saline_1_488\",\"saline_1_489\"]\n",
    "all_dicts_saline_2_str =  [\"saline_2_435\",\"saline_2_436\",\"saline_2_437\",\"saline_2_439\",\"saline_2_478\",\"saline_2_488\",\"saline_2_489\"]\n",
    "saline_1 ={}\n",
    "saline_2 = {}\n",
    "\n",
    "for file in all_dicts_saline_1_str:\n",
    "    saline_1[file]=None\n",
    "\n",
    "for file in all_dicts_saline_2_str:\n",
    "    saline_2[file] = None\n",
    "\n",
    "zippedsaline_pre = zip(all_dicts_saline_1, all_dicts_saline_1_str)\n",
    "for k,v in zippedsaline_pre:\n",
    "    with open(k,'rb') as f:\n",
    "        saline_1[v] = pickle.load(f)\n",
    "\n",
    "zippedsaline_post = zip(all_dicts_saline_2, all_dicts_saline_2_str)\n",
    "for k,v in zippedsaline_post:\n",
    "    with open(k,'rb') as f:\n",
    "        saline_2[v] = pickle.load(f)"
   ]
  },
  {
   "cell_type": "code",
   "execution_count": 5,
   "metadata": {},
   "outputs": [],
   "source": [
    "# PRE-SALINE\n",
    "\n",
    "with open(BASE_PATH+\"saline_pre_dict.pkl\",'wb') as f:\n",
    "         pickle.dump(saline_1,f)  "
   ]
  },
  {
   "cell_type": "code",
   "execution_count": 6,
   "metadata": {},
   "outputs": [],
   "source": [
    "# POST-SALINE\n",
    "\n",
    "with open(BASE_PATH+\"saline_post_dict.pkl\",'wb') as f:\n",
    "         pickle.dump(saline_2,f)"
   ]
  },
  {
   "cell_type": "code",
   "execution_count": 7,
   "metadata": {},
   "outputs": [],
   "source": [
    "# LOAD REQUIRED FILES PSILOCYBIN DAY\n",
    "\n",
    "psilo_1_435 = \"F:/Two-Photon/Psilocybin Project/Adaptation Cohort/ID435/psilo/TSeries-08072023-1534-118/suite2p/plane0/cells.pkl\"\n",
    "psilo_2_435 = \"F:/Two-Photon/Psilocybin Project/Adaptation Cohort/ID435/psilo/TSeries-08072023-1534-119/suite2p/plane0/cells.pkl\"\n",
    "\n",
    "psilo_1_436 = \"F:/Two-Photon/Psilocybin Project/Adaptation Cohort/ID436/psilo/TSeries-08072023-1534-120/suite2p/plane0/cells.pkl\"\n",
    "psilo_2_436 = \"F:/Two-Photon/Psilocybin Project/Adaptation Cohort/ID436/psilo/TSeries-08072023-1534-122/suite2p/plane0/cells.pkl\"\n",
    "\n",
    "psilo_1_437 = \"F:/Two-Photon/Psilocybin Project/Adaptation Cohort/ID437/psilo_29092023/TSeries-01142009-2331-130/suite2p/plane0/cells.pkl\"\n",
    "psilo_2_437 = \"F:/Two-Photon/Psilocybin Project/Adaptation Cohort/ID437/psilo_29092023/TSeries-01142009-2331-131/suite2p/plane0/cells.pkl\"\n",
    "\n",
    "psilo_1_439 = \"F:/Two-Photon/Psilocybin Project/Adaptation Cohort/ID439/psilo_29092023/TSeries-01142009-2331-132/suite2p/plane0/cells.pkl\"\n",
    "psilo_2_439 = \"F:/Two-Photon/Psilocybin Project/Adaptation Cohort/ID439/psilo_29092023/TSeries-01142009-2331-133/suite2p/plane0/cells.pkl\"\n",
    "\n",
    "psilo_1_478 = \"F:/Two-Photon/Psilocybin Project/Adaptation Cohort/ID478/psilo/TSeries-01012009-0004-165/suite2p/plane0/cells.pkl\"\n",
    "psilo_2_478 = \"F:/Two-Photon/Psilocybin Project/Adaptation Cohort/ID478/psilo/TSeries-01012009-0004-166/suite2p/plane0/cells.pkl\"\n",
    "\n",
    "psilo_1_485 = \"F:/Two-Photon/Psilocybin Project/Adaptation Cohort/ID485/psilo/TSeries-01012009-0004-163/suite2p/plane0/cells.pkl\"\n",
    "psilo_2_485 = \"F:/Two-Photon/Psilocybin Project/Adaptation Cohort/ID485/psilo/TSeries-01012009-0004-164/suite2p/plane0/cells.pkl\"\n",
    "\n",
    "psilo_1_488 = \"F:/Two-Photon/Psilocybin Project/Adaptation Cohort/ID488/psilo/TSeries-10132023-1324-149/suite2p/plane0/cells.pkl\"\n",
    "psilo_2_488 = \"F:/Two-Photon/Psilocybin Project/Adaptation Cohort/ID488/psilo/TSeries-10132023-1324-150/suite2p/plane0/cells.pkl\"\n",
    "\n",
    "psilo_1_489 = \"F:/Two-Photon/Psilocybin Project/Adaptation Cohort/ID489/psilo/TSeries-10132023-1324-151/suite2p/plane0/cells.pkl\"\n",
    "psilo_2_489 = \"F:/Two-Photon/Psilocybin Project/Adaptation Cohort/ID489/psilo/TSeries-10132023-1324-152/suite2p/plane0/cells.pkl\"\n",
    "\n",
    "all_dicts_psilo_1 = [psilo_1_435,psilo_1_436,psilo_1_437,psilo_1_439,psilo_1_478,psilo_1_485,psilo_1_488,psilo_1_489]\n",
    "all_dicts_psilo_2 = [psilo_2_435,psilo_2_436,psilo_2_437,psilo_2_439,psilo_2_478,psilo_2_485,psilo_2_488,psilo_2_489]\n",
    "all_dicts_psilo_1_str = [\"psilo_1_435\",\"psilo_1_436\",\"psilo_1_437\",\"psilo_1_439\",\"psilo_1_478\",\"psilo_1_488\",\"psilo_1_489\"]\n",
    "all_dicts_psilo_2_str =  [\"psilo_2_435\",\"psilo_2_436\",\"psilo_2_437\",\"psilo_2_439\",\"psilo_2_478\",\"psilo_2_488\",\"psilo_2_489\"]\n",
    "psilo_1 ={}\n",
    "psilo_2 = {}\n",
    "\n",
    "for file in all_dicts_psilo_1_str:\n",
    "    psilo_1[file]=None\n",
    "\n",
    "for file in all_dicts_psilo_2_str:\n",
    "    psilo_2[file] = None\n",
    "\n",
    "zippedpsilo_pre = zip(all_dicts_psilo_1, all_dicts_psilo_1_str)\n",
    "for k,v in zippedpsilo_pre:\n",
    "    with open(k,'rb') as f:\n",
    "        psilo_1[v] = pickle.load(f)\n",
    "\n",
    "zippedpsilo_post = zip(all_dicts_psilo_2, all_dicts_psilo_2_str)\n",
    "for k,v in zippedpsilo_post:\n",
    "    with open(k,'rb') as f:\n",
    "        psilo_2[v] = pickle.load(f)\n"
   ]
  },
  {
   "cell_type": "code",
   "execution_count": 8,
   "metadata": {},
   "outputs": [],
   "source": [
    "# PRE-PSILO\n",
    "\n",
    "with open(BASE_PATH+\"psilo_pre_dict.pkl\",'wb') as f:\n",
    "         pickle.dump(psilo_1,f)   "
   ]
  },
  {
   "cell_type": "code",
   "execution_count": 9,
   "metadata": {},
   "outputs": [],
   "source": [
    "# POST-PSILO\n",
    "\n",
    "with open(BASE_PATH+\"psilo_post_dict.pkl\",'wb') as f:\n",
    "         pickle.dump(psilo_2,f)"
   ]
  }
 ],
 "metadata": {
  "kernelspec": {
   "display_name": "Python 3",
   "language": "python",
   "name": "python3"
  },
  "language_info": {
   "codemirror_mode": {
    "name": "ipython",
    "version": 3
   },
   "file_extension": ".py",
   "mimetype": "text/x-python",
   "name": "python",
   "nbconvert_exporter": "python",
   "pygments_lexer": "ipython3",
   "version": "3.9.13"
  }
 },
 "nbformat": 4,
 "nbformat_minor": 2
}
